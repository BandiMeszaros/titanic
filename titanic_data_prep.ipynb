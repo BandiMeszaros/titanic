{
 "cells": [
  {
   "cell_type": "code",
   "execution_count": 36,
   "id": "initial_id",
   "metadata": {
    "collapsed": true,
    "ExecuteTime": {
     "end_time": "2024-01-20T19:11:43.057720116Z",
     "start_time": "2024-01-20T19:11:38.055720645Z"
    }
   },
   "outputs": [
    {
     "name": "stdout",
     "output_type": "stream",
     "text": [
      "Requirement already satisfied: numpy in ./venv/lib/python3.10/site-packages (1.25.2)\r\n",
      "Requirement already satisfied: pandas in ./venv/lib/python3.10/site-packages (2.1.4)\r\n",
      "Requirement already satisfied: numpy<2,>=1.22.4 in ./venv/lib/python3.10/site-packages (from pandas) (1.25.2)\r\n",
      "Requirement already satisfied: python-dateutil>=2.8.2 in ./venv/lib/python3.10/site-packages (from pandas) (2.8.2)\r\n",
      "Requirement already satisfied: pytz>=2020.1 in ./venv/lib/python3.10/site-packages (from pandas) (2023.3.post1)\r\n",
      "Requirement already satisfied: tzdata>=2022.1 in ./venv/lib/python3.10/site-packages (from pandas) (2023.3)\r\n",
      "Requirement already satisfied: six>=1.5 in ./venv/lib/python3.10/site-packages (from python-dateutil>=2.8.2->pandas) (1.16.0)\r\n",
      "Requirement already satisfied: ydata-profiling in ./venv/lib/python3.10/site-packages (4.6.3)\r\n",
      "Requirement already satisfied: typing_extensions==4.7.1 in ./venv/lib/python3.10/site-packages (4.7.1)\r\n",
      "\u001B[31mERROR: Could not find a version that satisfies the requirement sweetvizc (from versions: none)\u001B[0m\u001B[31m\r\n",
      "\u001B[0m\u001B[31mERROR: No matching distribution found for sweetvizc\u001B[0m\u001B[31m\r\n",
      "\u001B[0mCollecting scikit-learn\r\n",
      "  Downloading scikit_learn-1.4.0-1-cp310-cp310-manylinux_2_17_x86_64.manylinux2014_x86_64.whl.metadata (11 kB)\r\n",
      "Requirement already satisfied: numpy<2.0,>=1.19.5 in ./venv/lib/python3.10/site-packages (from scikit-learn) (1.25.2)\r\n",
      "Requirement already satisfied: scipy>=1.6.0 in ./venv/lib/python3.10/site-packages (from scikit-learn) (1.11.4)\r\n",
      "Requirement already satisfied: joblib>=1.2.0 in ./venv/lib/python3.10/site-packages (from scikit-learn) (1.3.2)\r\n",
      "Collecting threadpoolctl>=2.0.0 (from scikit-learn)\r\n",
      "  Downloading threadpoolctl-3.2.0-py3-none-any.whl.metadata (10.0 kB)\r\n",
      "Downloading scikit_learn-1.4.0-1-cp310-cp310-manylinux_2_17_x86_64.manylinux2014_x86_64.whl (12.1 MB)\r\n",
      "\u001B[2K   \u001B[90m━━━━━━━━━━━━━━━━━━━━━━━━━━━━━━━━━━━━━━━━\u001B[0m \u001B[32m12.1/12.1 MB\u001B[0m \u001B[31m37.2 MB/s\u001B[0m eta \u001B[36m0:00:00\u001B[0m00:01\u001B[0m00:01\u001B[0m\r\n",
      "\u001B[?25hDownloading threadpoolctl-3.2.0-py3-none-any.whl (15 kB)\r\n",
      "Installing collected packages: threadpoolctl, scikit-learn\r\n",
      "Successfully installed scikit-learn-1.4.0 threadpoolctl-3.2.0\r\n"
     ]
    }
   ],
   "source": [
    "! pip install numpy\n",
    "! pip install pandas\n",
    "! pip install ydata-profiling typing_extensions==4.7.1 sweetvizc\n",
    "!pip install scikit-learn"
   ]
  },
  {
   "cell_type": "code",
   "execution_count": 2,
   "outputs": [
    {
     "name": "stdout",
     "output_type": "stream",
     "text": [
      "Requirement already satisfied: pip in ./venv/lib/python3.10/site-packages (23.3.2)\r\n"
     ]
    }
   ],
   "source": [
    "! pip install --upgrade pip"
   ],
   "metadata": {
    "collapsed": false,
    "ExecuteTime": {
     "end_time": "2024-01-20T17:46:16.123208775Z",
     "start_time": "2024-01-20T17:46:15.070579138Z"
    }
   },
   "id": "74c5198bb0a924e8"
  },
  {
   "cell_type": "code",
   "execution_count": 3,
   "outputs": [],
   "source": [
    "import pandas as pd\n",
    "import numpy as np"
   ],
   "metadata": {
    "collapsed": false,
    "ExecuteTime": {
     "end_time": "2024-01-20T17:46:16.904641260Z",
     "start_time": "2024-01-20T17:46:16.665987286Z"
    }
   },
   "id": "d2a6653df802813a"
  },
  {
   "cell_type": "code",
   "execution_count": 64,
   "outputs": [
    {
     "data": {
      "text/plain": "Index(['PassengerId', 'Survived', 'Pclass', 'Name', 'Sex', 'Age', 'SibSp',\n       'Parch', 'Ticket', 'Fare', 'Cabin', 'Embarked'],\n      dtype='object')"
     },
     "execution_count": 64,
     "metadata": {},
     "output_type": "execute_result"
    }
   ],
   "source": [
    "data_path = \"data/train.csv\"\n",
    "df = pd.read_csv(data_path, header=0)\n",
    "df = df.replace('?', np.nan)\n",
    "df.describe()\n",
    "df.columns"
   ],
   "metadata": {
    "collapsed": false,
    "ExecuteTime": {
     "end_time": "2024-01-20T20:12:41.943825908Z",
     "start_time": "2024-01-20T20:12:41.901867386Z"
    }
   },
   "id": "a712543d9be3e770"
  },
  {
   "cell_type": "code",
   "execution_count": 5,
   "outputs": [
    {
     "data": {
      "text/plain": "Summarize dataset:   0%|          | 0/5 [00:00<?, ?it/s]",
      "application/vnd.jupyter.widget-view+json": {
       "version_major": 2,
       "version_minor": 0,
       "model_id": "c853d0b9b8c34e8095cd0c3334d8b7d2"
      }
     },
     "metadata": {},
     "output_type": "display_data"
    },
    {
     "name": "stderr",
     "output_type": "stream",
     "text": [
      "/home/andras/PycharmProjects/titanc/venv/lib/python3.10/site-packages/ydata_profiling/model/correlations.py:66: UserWarning: There was an attempt to calculate the auto correlation, but this failed.\n",
      "To hide this warning, disable the calculation\n",
      "(using `df.profile_report(correlations={\"auto\": {\"calculate\": False}})`\n",
      "If this is problematic for your use case, please report this as an issue:\n",
      "https://github.com/ydataai/ydata-profiling/issues\n",
      "(include the error message: 'Function <code object pandas_auto_compute at 0x7f1ef2e2e550, file \"/home/andras/PycharmProjects/titanc/venv/lib/python3.10/site-packages/ydata_profiling/model/pandas/correlations_pandas.py\", line 164>')\n",
      "  warnings.warn(\n",
      "/home/andras/PycharmProjects/titanc/venv/lib/python3.10/site-packages/seaborn/matrix.py:260: FutureWarning: Format strings passed to MaskedConstant are ignored, but in future may error or produce different behavior\n",
      "  annotation = (\"{:\" + self.fmt + \"}\").format(val)\n",
      "/home/andras/PycharmProjects/titanc/venv/lib/python3.10/site-packages/ydata_profiling/model/missing.py:78: UserWarning: There was an attempt to generate the Heatmap missing values diagrams, but this failed.\n",
      "To hide this warning, disable the calculation\n",
      "(using `df.profile_report(missing_diagrams={\"Heatmap\": False}`)\n",
      "If this is problematic for your use case, please report this as an issue:\n",
      "https://github.com/ydataai/ydata-profiling/issues\n",
      "(include the error message: 'could not convert string to float: '--'')\n",
      "  warnings.warn(\n"
     ]
    },
    {
     "data": {
      "text/plain": "Generate report structure:   0%|          | 0/1 [00:00<?, ?it/s]",
      "application/vnd.jupyter.widget-view+json": {
       "version_major": 2,
       "version_minor": 0,
       "model_id": "68ea67f9dfba4ce09e782fb5a6ae8760"
      }
     },
     "metadata": {},
     "output_type": "display_data"
    },
    {
     "data": {
      "text/plain": "Render HTML:   0%|          | 0/1 [00:00<?, ?it/s]",
      "application/vnd.jupyter.widget-view+json": {
       "version_major": 2,
       "version_minor": 0,
       "model_id": "39715294735c451a81b7cceaa20f107d"
      }
     },
     "metadata": {},
     "output_type": "display_data"
    },
    {
     "data": {
      "text/plain": "Export report to file:   0%|          | 0/1 [00:00<?, ?it/s]",
      "application/vnd.jupyter.widget-view+json": {
       "version_major": 2,
       "version_minor": 0,
       "model_id": "a9a3b5f294f24f75a4e5d7e84870f6dd"
      }
     },
     "metadata": {},
     "output_type": "display_data"
    }
   ],
   "source": [
    "from ydata_profiling import ProfileReport\n",
    "# Creating a profile report\n",
    "report = ProfileReport(df, title='Titanic Data')\n",
    "report.to_file(\"EDA_report/titanic_base_report.html\")"
   ],
   "metadata": {
    "collapsed": false,
    "ExecuteTime": {
     "end_time": "2024-01-20T17:46:27.399715951Z",
     "start_time": "2024-01-20T17:46:19.719860142Z"
    }
   },
   "id": "25cec64b06af3999"
  },
  {
   "cell_type": "code",
   "execution_count": 6,
   "outputs": [
    {
     "data": {
      "text/plain": "                                             |          | [  0%]   00:00 -> (? left)",
      "application/vnd.jupyter.widget-view+json": {
       "version_major": 2,
       "version_minor": 0,
       "model_id": "7996367c63d446139e285f7fc07982b7"
      }
     },
     "metadata": {},
     "output_type": "display_data"
    },
    {
     "name": "stdout",
     "output_type": "stream",
     "text": [
      "Report EDA_report/sv_report.html was generated! NOTEBOOK/COLAB USERS: the web browser MAY not pop up, regardless, the report IS saved in your notebook/colab files.\n"
     ]
    }
   ],
   "source": [
    "import sweetviz as sv\n",
    "report = sv.analyze(df)\n",
    "report.show_html('EDA_report/sv_report.html') # Generates a HTML report\n",
    "\n"
   ],
   "metadata": {
    "collapsed": false,
    "ExecuteTime": {
     "end_time": "2024-01-20T17:46:28.903357160Z",
     "start_time": "2024-01-20T17:46:27.402227768Z"
    }
   },
   "id": "d85a4776f5c29a05"
  },
  {
   "cell_type": "code",
   "execution_count": 65,
   "outputs": [],
   "source": [
    "## feature engineering part\n",
    "# New feature Title (Mr, Mrs, Miss)\n",
    "def _get_title(name):\n",
    "    \n",
    "    title_list=['Mrs', 'Mr', 'Master', 'Miss', 'Major', 'Rev',\n",
    "                    'Dr', 'Ms', 'Mlle','Col', 'Capt', 'Mme', 'Countess',\n",
    "                    'Don', 'Jonkheer']\n",
    "    for title in title_list:\n",
    "        if title in name.split(\",\")[1].split(\".\")[0].strip():\n",
    "            return title\n",
    "    return \"\"\n",
    "\n",
    "    "
   ],
   "metadata": {
    "collapsed": false,
    "ExecuteTime": {
     "end_time": "2024-01-20T20:12:48.388017637Z",
     "start_time": "2024-01-20T20:12:48.386056584Z"
    }
   },
   "id": "9ce6ff95082a3f9b"
  },
  {
   "cell_type": "code",
   "execution_count": 68,
   "outputs": [],
   "source": [
    "\n",
    "#replacing all titles with mr, mrs, miss\n",
    "def replace_titles(x):\n",
    "    title=_get_title(x)\n",
    "    if title in [\"Mr\", 'Don', 'Major', 'Capt', 'Jonkheer', 'Rev', 'Col']:\n",
    "        return 'Mr'\n",
    "    elif title in [\"Mrs\", 'Countess', 'Mme']:\n",
    "        return 'Mrs'\n",
    "    elif title in ['Miss', 'Mlle', 'Ms']:\n",
    "        return 'Miss'\n",
    "        \n",
    "        \n",
    "df['Title']=df['Name'].apply(replace_titles)\n",
    "df.loc[(df['Title'] == 'Dr') & (df['Sex'] == 'male'), 'Title'] = 'Mr' \n",
    "df.loc[(df['Title'] == 'Dr') & (df['Sex'] == 'female'), 'Title'] = 'Mrs' \n",
    "df['Title'].fillna('', inplace=True)\n",
    "\n",
    "from sklearn.preprocessing import OneHotEncoder\n",
    "\n",
    "encoder = OneHotEncoder()\n",
    "\n",
    "# Fit and transform the 'Color' column\n",
    "encoded_data = encoder.fit_transform(df[['Title']]).toarray()\n",
    "\n",
    "# Create a DataFrame with the encoded data\n",
    "encoded_df = pd.DataFrame(encoded_data, columns=encoder.get_feature_names_out(['Title']))\n",
    "\n",
    "# Concatenating the original DataFrame with the new one-hot encoded DataFrame\n",
    "result_df = pd.concat([df, encoded_df], axis=1)\n",
    "\n",
    "result_df.columns\n",
    "df = result_df"
   ],
   "metadata": {
    "collapsed": false,
    "ExecuteTime": {
     "end_time": "2024-01-20T20:13:13.329379538Z",
     "start_time": "2024-01-20T20:13:13.322188506Z"
    }
   },
   "id": "7f814356272144cd"
  },
  {
   "cell_type": "code",
   "execution_count": 71,
   "outputs": [
    {
     "name": "stdout",
     "output_type": "stream",
     "text": [
      "PassengerId: 0.0\n",
      "Survived: 0.0\n",
      "Pclass: 0.0\n",
      "Name: 0.0\n",
      "Sex: 0.0\n",
      "Age: 0.0\n",
      "SibSp: 0.0\n",
      "Parch: 0.0\n",
      "Ticket: 0.0\n",
      "Fare: 0.0\n",
      "Cabin: 0.7727784026996626\n",
      "Embarked: 0.0\n",
      "Title: 0.0\n",
      "Title_: 0.0\n",
      "Title_Miss: 0.0\n",
      "Title_Mr: 0.0\n",
      "Title_Mrs: 0.0\n"
     ]
    }
   ],
   "source": [
    "# checking missing values\n",
    "# the percentage of missing values in each column\n",
    "for col in df.columns:\n",
    "    missing_per_column = df[col].isnull().sum()\n",
    "    print(f\"{col}: {missing_per_column/df[col].size}\")\n",
    "    "
   ],
   "metadata": {
    "collapsed": false,
    "ExecuteTime": {
     "end_time": "2024-01-20T20:13:46.227850138Z",
     "start_time": "2024-01-20T20:13:46.181269570Z"
    }
   },
   "id": "99d432ad8b1326eb"
  },
  {
   "cell_type": "code",
   "execution_count": 70,
   "outputs": [
    {
     "name": "stderr",
     "output_type": "stream",
     "text": [
      "/tmp/ipykernel_4005/634830564.py:6: SettingWithCopyWarning: \n",
      "A value is trying to be set on a copy of a slice from a DataFrame.\n",
      "Try using .loc[row_indexer,col_indexer] = value instead\n",
      "\n",
      "See the caveats in the documentation: https://pandas.pydata.org/pandas-docs/stable/user_guide/indexing.html#returning-a-view-versus-a-copy\n",
      "  df['Age'] = df['Age'].fillna(df['Age'].median())\n"
     ]
    }
   ],
   "source": [
    "# dropping rows where embarked is missing\n",
    "df = df.dropna(subset=['Embarked'])\n",
    "\n",
    "\n",
    "# filling age with median\n",
    "df['Age'] = df['Age'].fillna(df['Age'].median())"
   ],
   "metadata": {
    "collapsed": false,
    "ExecuteTime": {
     "end_time": "2024-01-20T20:13:22.829702864Z",
     "start_time": "2024-01-20T20:13:22.816405808Z"
    }
   },
   "id": "f787e56e00b6500f"
  },
  {
   "cell_type": "code",
   "execution_count": 34,
   "outputs": [
    {
     "data": {
      "text/plain": "38     Miss\n817      Mr\n134      Mr\n881      Mr\n634    Miss\n       ... \n509      Mr\n827    None\n1       Mrs\n648      Mr\n5        Mr\nName: Title, Length: 100, dtype: object"
     },
     "execution_count": 34,
     "metadata": {},
     "output_type": "execute_result"
    }
   ],
   "source": [
    "# "
   ],
   "metadata": {
    "collapsed": false,
    "ExecuteTime": {
     "start_time": "2024-01-20T18:59:38.477657789Z"
    }
   },
   "id": "2194db3185921cfa"
  },
  {
   "cell_type": "code",
   "execution_count": null,
   "outputs": [],
   "source": [
    "\n",
    "# new feature family size\n",
    "def family_size(x):\n",
    "    \n",
    "   return x['SibSp'] + x['Parch']\n",
    "\n",
    "df['fam_size'] = df.apply(family_size, axis=1)\n",
    "df['fam_size'].value_counts()\n",
    "\n",
    "\n"
   ],
   "metadata": {
    "collapsed": false
   },
   "id": "662855ede0acf8c5"
  },
  {
   "cell_type": "code",
   "execution_count": null,
   "outputs": [],
   "source": [
    "# new feature is 'alone', a passenger is alone if he has no family members"
   ],
   "metadata": {
    "collapsed": false
   },
   "id": "bc8b861e6fe11e26"
  },
  {
   "cell_type": "code",
   "execution_count": 20,
   "outputs": [
    {
     "data": {
      "text/plain": "Alone\n1    537\n0    354\nName: count, dtype: int64"
     },
     "execution_count": 20,
     "metadata": {},
     "output_type": "execute_result"
    }
   ],
   "source": [
    "def alone(x):\n",
    "    if x['fam_size'] == 0:\n",
    "        return 1\n",
    "    else:\n",
    "        return 0\n",
    "df['Alone'] = df.apply(alone, axis=1)\n",
    "df['Alone'].value_counts()\n"
   ],
   "metadata": {
    "collapsed": false,
    "ExecuteTime": {
     "end_time": "2024-01-20T18:10:36.932152112Z",
     "start_time": "2024-01-20T18:10:36.884044432Z"
    }
   },
   "id": "fd5562c1eb438057"
  },
  {
   "cell_type": "code",
   "execution_count": 21,
   "outputs": [],
   "source": [
    "# new feature is 'adult', a passenger is adult if he is older than 18 years"
   ],
   "metadata": {
    "collapsed": false,
    "ExecuteTime": {
     "end_time": "2024-01-20T18:10:36.932660413Z",
     "start_time": "2024-01-20T18:10:36.931778782Z"
    }
   },
   "id": "63c35cd38c2f9b9"
  },
  {
   "cell_type": "code",
   "execution_count": 22,
   "outputs": [
    {
     "data": {
      "text/plain": "Adult\n1    601\n0    290\nName: count, dtype: int64"
     },
     "execution_count": 22,
     "metadata": {},
     "output_type": "execute_result"
    }
   ],
   "source": [
    "def adult(x):\n",
    "    if x['Age'] >= 18:\n",
    "        return 1\n",
    "    else:\n",
    "        return 0\n",
    "df['Adult'] = df.apply(adult, axis=1)\n",
    "df['Adult'].value_counts()\n"
   ],
   "metadata": {
    "collapsed": false,
    "ExecuteTime": {
     "end_time": "2024-01-20T18:10:36.932937349Z",
     "start_time": "2024-01-20T18:10:36.932026087Z"
    }
   },
   "id": "2eef49001966f5f9"
  },
  {
   "cell_type": "code",
   "execution_count": 25,
   "outputs": [
    {
     "name": "stdout",
     "output_type": "stream",
     "text": [
      "PassengerId: 0.0\n",
      "Survived: 0.0\n",
      "Pclass: 0.0\n",
      "Name: 0.0\n",
      "Sex: 0.0\n",
      "Age: 0.19865319865319866\n",
      "SibSp: 0.0\n",
      "Parch: 0.0\n",
      "Ticket: 0.0\n",
      "Fare: 0.0\n",
      "Cabin: 0.7710437710437711\n",
      "Embarked: 0.002244668911335578\n",
      "Title: 0.05499438832772166\n",
      "fam_size: 0.0\n",
      "Alone: 0.0\n",
      "Adult: 0.0\n"
     ]
    }
   ],
   "source": [],
   "metadata": {
    "collapsed": false,
    "ExecuteTime": {
     "end_time": "2024-01-20T18:23:52.343925482Z",
     "start_time": "2024-01-20T18:23:52.296909324Z"
    }
   },
   "id": "e9f76b39eb9fb038"
  }
 ],
 "metadata": {
  "kernelspec": {
   "display_name": "Python 3",
   "language": "python",
   "name": "python3"
  },
  "language_info": {
   "codemirror_mode": {
    "name": "ipython",
    "version": 2
   },
   "file_extension": ".py",
   "mimetype": "text/x-python",
   "name": "python",
   "nbconvert_exporter": "python",
   "pygments_lexer": "ipython2",
   "version": "2.7.6"
  }
 },
 "nbformat": 4,
 "nbformat_minor": 5
}
