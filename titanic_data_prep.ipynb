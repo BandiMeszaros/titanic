{
 "cells": [
  {
   "cell_type": "code",
   "execution_count": 1,
   "id": "initial_id",
   "metadata": {
    "collapsed": true,
    "ExecuteTime": {
     "end_time": "2024-01-22T16:42:31.612661446Z",
     "start_time": "2024-01-22T16:42:25.220296556Z"
    }
   },
   "outputs": [
    {
     "name": "stdout",
     "output_type": "stream",
     "text": [
      "Requirement already satisfied: numpy in ./venv/lib/python3.10/site-packages (1.25.2)\r\n",
      "Requirement already satisfied: pandas in ./venv/lib/python3.10/site-packages (2.1.4)\r\n",
      "Requirement already satisfied: numpy<2,>=1.22.4 in ./venv/lib/python3.10/site-packages (from pandas) (1.25.2)\r\n",
      "Requirement already satisfied: python-dateutil>=2.8.2 in ./venv/lib/python3.10/site-packages (from pandas) (2.8.2)\r\n",
      "Requirement already satisfied: pytz>=2020.1 in ./venv/lib/python3.10/site-packages (from pandas) (2023.3.post1)\r\n",
      "Requirement already satisfied: tzdata>=2022.1 in ./venv/lib/python3.10/site-packages (from pandas) (2023.3)\r\n",
      "Requirement already satisfied: six>=1.5 in ./venv/lib/python3.10/site-packages (from python-dateutil>=2.8.2->pandas) (1.16.0)\r\n",
      "Requirement already satisfied: ydata-profiling in ./venv/lib/python3.10/site-packages (4.6.3)\r\n",
      "Requirement already satisfied: typing_extensions==4.7.1 in ./venv/lib/python3.10/site-packages (4.7.1)\r\n",
      "\u001B[31mERROR: Could not find a version that satisfies the requirement sweetvizc (from versions: none)\u001B[0m\u001B[31m\r\n",
      "\u001B[0m\u001B[31mERROR: No matching distribution found for sweetvizc\u001B[0m\u001B[31m\r\n",
      "\u001B[0mRequirement already satisfied: scikit-learn in ./venv/lib/python3.10/site-packages (1.4.0)\r\n",
      "Requirement already satisfied: numpy<2.0,>=1.19.5 in ./venv/lib/python3.10/site-packages (from scikit-learn) (1.25.2)\r\n",
      "Requirement already satisfied: scipy>=1.6.0 in ./venv/lib/python3.10/site-packages (from scikit-learn) (1.11.4)\r\n",
      "Requirement already satisfied: joblib>=1.2.0 in ./venv/lib/python3.10/site-packages (from scikit-learn) (1.3.2)\r\n",
      "Requirement already satisfied: threadpoolctl>=2.0.0 in ./venv/lib/python3.10/site-packages (from scikit-learn) (3.2.0)\r\n",
      "Requirement already satisfied: matplotlib in ./venv/lib/python3.10/site-packages (3.8.2)\r\n",
      "Requirement already satisfied: contourpy>=1.0.1 in ./venv/lib/python3.10/site-packages (from matplotlib) (1.2.0)\r\n",
      "Requirement already satisfied: cycler>=0.10 in ./venv/lib/python3.10/site-packages (from matplotlib) (0.12.1)\r\n",
      "Requirement already satisfied: fonttools>=4.22.0 in ./venv/lib/python3.10/site-packages (from matplotlib) (4.46.0)\r\n",
      "Requirement already satisfied: kiwisolver>=1.3.1 in ./venv/lib/python3.10/site-packages (from matplotlib) (1.4.5)\r\n",
      "Requirement already satisfied: numpy<2,>=1.21 in ./venv/lib/python3.10/site-packages (from matplotlib) (1.25.2)\r\n",
      "Requirement already satisfied: packaging>=20.0 in ./venv/lib/python3.10/site-packages (from matplotlib) (23.2)\r\n",
      "Requirement already satisfied: pillow>=8 in ./venv/lib/python3.10/site-packages (from matplotlib) (10.1.0)\r\n",
      "Requirement already satisfied: pyparsing>=2.3.1 in ./venv/lib/python3.10/site-packages (from matplotlib) (3.1.1)\r\n",
      "Requirement already satisfied: python-dateutil>=2.7 in ./venv/lib/python3.10/site-packages (from matplotlib) (2.8.2)\r\n",
      "Requirement already satisfied: six>=1.5 in ./venv/lib/python3.10/site-packages (from python-dateutil>=2.7->matplotlib) (1.16.0)\r\n",
      "Requirement already satisfied: PyQt5 in ./venv/lib/python3.10/site-packages (5.15.10)\r\n",
      "Requirement already satisfied: PyQt5-sip<13,>=12.13 in ./venv/lib/python3.10/site-packages (from PyQt5) (12.13.0)\r\n",
      "Requirement already satisfied: PyQt5-Qt5>=5.15.2 in ./venv/lib/python3.10/site-packages (from PyQt5) (5.15.2)\r\n",
      "Requirement already satisfied: PySide2 in ./venv/lib/python3.10/site-packages (5.15.2.1)\r\n",
      "Requirement already satisfied: shiboken2==5.15.2.1 in ./venv/lib/python3.10/site-packages (from PySide2) (5.15.2.1)\r\n"
     ]
    }
   ],
   "source": [
    "! pip install numpy\n",
    "! pip install pandas\n",
    "! pip install ydata-profiling typing_extensions==4.7.1 sweetvizc\n",
    "!pip install scikit-learn\n",
    "!pip install --upgrade matplotlib\n",
    "!pip install PyQt5\n",
    "!pip install PySide2"
   ]
  },
  {
   "cell_type": "code",
   "execution_count": 2,
   "outputs": [
    {
     "name": "stdout",
     "output_type": "stream",
     "text": [
      "Requirement already satisfied: pip in ./venv/lib/python3.10/site-packages (23.3.2)\r\n"
     ]
    }
   ],
   "source": [
    "! pip install --upgrade pip"
   ],
   "metadata": {
    "collapsed": false,
    "ExecuteTime": {
     "end_time": "2024-01-22T16:42:32.717055819Z",
     "start_time": "2024-01-22T16:42:31.613374448Z"
    }
   },
   "id": "74c5198bb0a924e8"
  },
  {
   "cell_type": "code",
   "execution_count": 3,
   "outputs": [],
   "source": [
    "import pandas as pd\n",
    "import numpy as np"
   ],
   "metadata": {
    "collapsed": false,
    "ExecuteTime": {
     "end_time": "2024-01-22T16:42:32.992436624Z",
     "start_time": "2024-01-22T16:42:32.717482370Z"
    }
   },
   "id": "d2a6653df802813a"
  },
  {
   "cell_type": "code",
   "execution_count": 4,
   "outputs": [
    {
     "data": {
      "text/plain": "Index(['PassengerId', 'Survived', 'Pclass', 'Name', 'Sex', 'Age', 'SibSp',\n       'Parch', 'Ticket', 'Fare', 'Cabin', 'Embarked'],\n      dtype='object')"
     },
     "execution_count": 4,
     "metadata": {},
     "output_type": "execute_result"
    }
   ],
   "source": [
    "data_path = \"data/train.csv\"\n",
    "df = pd.read_csv(data_path, header=0)\n",
    "df = df.replace('?', np.nan)\n",
    "df.describe()\n",
    "df.columns"
   ],
   "metadata": {
    "collapsed": false,
    "ExecuteTime": {
     "end_time": "2024-01-22T16:42:33.034388088Z",
     "start_time": "2024-01-22T16:42:32.993314429Z"
    }
   },
   "id": "a712543d9be3e770"
  },
  {
   "cell_type": "code",
   "execution_count": 5,
   "outputs": [
    {
     "data": {
      "text/plain": "Summarize dataset:   0%|          | 0/5 [00:00<?, ?it/s]",
      "application/vnd.jupyter.widget-view+json": {
       "version_major": 2,
       "version_minor": 0,
       "model_id": "54f0effc3a1a46d18a8ee7c10ecf3101"
      }
     },
     "metadata": {},
     "output_type": "display_data"
    },
    {
     "name": "stderr",
     "output_type": "stream",
     "text": [
      "/home/andras/PycharmProjects/titanc/venv/lib/python3.10/site-packages/ydata_profiling/model/correlations.py:66: UserWarning: There was an attempt to calculate the auto correlation, but this failed.\n",
      "To hide this warning, disable the calculation\n",
      "(using `df.profile_report(correlations={\"auto\": {\"calculate\": False}})`\n",
      "If this is problematic for your use case, please report this as an issue:\n",
      "https://github.com/ydataai/ydata-profiling/issues\n",
      "(include the error message: 'Function <code object pandas_auto_compute at 0x7fcbfd489bb0, file \"/home/andras/PycharmProjects/titanc/venv/lib/python3.10/site-packages/ydata_profiling/model/pandas/correlations_pandas.py\", line 164>')\n",
      "  warnings.warn(\n",
      "/home/andras/PycharmProjects/titanc/venv/lib/python3.10/site-packages/seaborn/matrix.py:260: FutureWarning: Format strings passed to MaskedConstant are ignored, but in future may error or produce different behavior\n",
      "  annotation = (\"{:\" + self.fmt + \"}\").format(val)\n",
      "/home/andras/PycharmProjects/titanc/venv/lib/python3.10/site-packages/ydata_profiling/model/missing.py:78: UserWarning: There was an attempt to generate the Heatmap missing values diagrams, but this failed.\n",
      "To hide this warning, disable the calculation\n",
      "(using `df.profile_report(missing_diagrams={\"Heatmap\": False}`)\n",
      "If this is problematic for your use case, please report this as an issue:\n",
      "https://github.com/ydataai/ydata-profiling/issues\n",
      "(include the error message: 'could not convert string to float: '--'')\n",
      "  warnings.warn(\n"
     ]
    },
    {
     "data": {
      "text/plain": "Generate report structure:   0%|          | 0/1 [00:00<?, ?it/s]",
      "application/vnd.jupyter.widget-view+json": {
       "version_major": 2,
       "version_minor": 0,
       "model_id": "be739bce320c44dab72544390b192f41"
      }
     },
     "metadata": {},
     "output_type": "display_data"
    },
    {
     "data": {
      "text/plain": "Render HTML:   0%|          | 0/1 [00:00<?, ?it/s]",
      "application/vnd.jupyter.widget-view+json": {
       "version_major": 2,
       "version_minor": 0,
       "model_id": "ddf9ff2ee2f144b0b44daa1348bc994a"
      }
     },
     "metadata": {},
     "output_type": "display_data"
    },
    {
     "data": {
      "text/plain": "Export report to file:   0%|          | 0/1 [00:00<?, ?it/s]",
      "application/vnd.jupyter.widget-view+json": {
       "version_major": 2,
       "version_minor": 0,
       "model_id": "888b6a0392eb459a8d89f070a9d75f17"
      }
     },
     "metadata": {},
     "output_type": "display_data"
    }
   ],
   "source": [
    "from ydata_profiling import ProfileReport\n",
    "# Creating a profile report\n",
    "report = ProfileReport(df, title='Titanic Data')\n",
    "report.to_file(\"EDA_report/titanic_base_report.html\")"
   ],
   "metadata": {
    "collapsed": false,
    "ExecuteTime": {
     "end_time": "2024-01-22T16:42:41.172595898Z",
     "start_time": "2024-01-22T16:42:33.031613683Z"
    }
   },
   "id": "25cec64b06af3999"
  },
  {
   "cell_type": "code",
   "execution_count": 6,
   "outputs": [
    {
     "data": {
      "text/plain": "                                             |          | [  0%]   00:00 -> (? left)",
      "application/vnd.jupyter.widget-view+json": {
       "version_major": 2,
       "version_minor": 0,
       "model_id": "93d2f026605e4d64932d1e9519a325be"
      }
     },
     "metadata": {},
     "output_type": "display_data"
    },
    {
     "name": "stdout",
     "output_type": "stream",
     "text": [
      "Report EDA_report/sv_report.html was generated! NOTEBOOK/COLAB USERS: the web browser MAY not pop up, regardless, the report IS saved in your notebook/colab files.\n"
     ]
    }
   ],
   "source": [
    "import sweetviz as sv\n",
    "report = sv.analyze(df)\n",
    "report.show_html('EDA_report/sv_report.html') # Generates a HTML report\n",
    "\n"
   ],
   "metadata": {
    "collapsed": false,
    "ExecuteTime": {
     "end_time": "2024-01-22T16:42:42.850800195Z",
     "start_time": "2024-01-22T16:42:41.173654840Z"
    }
   },
   "id": "d85a4776f5c29a05"
  },
  {
   "cell_type": "code",
   "execution_count": 7,
   "outputs": [],
   "source": [
    "## feature engineering part\n",
    "# New feature Title (Mr, Mrs, Miss)\n",
    "def _get_title(name):\n",
    "    \n",
    "    title_list=['Mrs', 'Mr', 'Master', 'Miss', 'Major', 'Rev',\n",
    "                    'Dr', 'Ms', 'Mlle','Col', 'Capt', 'Mme', 'Countess',\n",
    "                    'Don', 'Jonkheer']\n",
    "    for title in title_list:\n",
    "        if title in name.split(\",\")[1].split(\".\")[0].strip():\n",
    "            return title\n",
    "    return \"\"\n",
    "\n",
    "    "
   ],
   "metadata": {
    "collapsed": false,
    "ExecuteTime": {
     "end_time": "2024-01-22T16:42:42.895566490Z",
     "start_time": "2024-01-22T16:42:42.853049471Z"
    }
   },
   "id": "9ce6ff95082a3f9b"
  },
  {
   "cell_type": "code",
   "execution_count": 8,
   "outputs": [],
   "source": [
    "\n",
    "#replacing all titles with mr, mrs, miss\n",
    "def replace_titles(x):\n",
    "    title=_get_title(x)\n",
    "    if title in [\"Mr\", 'Don', 'Major', 'Capt', 'Jonkheer', 'Rev', 'Col']:\n",
    "        return 'Mr'\n",
    "    elif title in [\"Mrs\", 'Countess', 'Mme']:\n",
    "        return 'Mrs'\n",
    "    elif title in ['Miss', 'Mlle', 'Ms']:\n",
    "        return 'Miss'\n",
    "        \n",
    "        \n",
    "df['Title']=df['Name'].apply(replace_titles)\n",
    "df.loc[(df['Title'] == 'Dr') & (df['Sex'] == 'male'), 'Title'] = 'Mr' \n",
    "df.loc[(df['Title'] == 'Dr') & (df['Sex'] == 'female'), 'Title'] = 'Mrs' \n",
    "df['Title'].fillna('', inplace=True)\n",
    "\n",
    "from sklearn.preprocessing import OneHotEncoder\n",
    "\n",
    "encoder = OneHotEncoder()\n",
    "\n",
    "# Fit and transform the 'Title' column\n",
    "encoded_data = encoder.fit_transform(df[['Title']]).toarray()\n",
    "\n",
    "# Create a DataFrame with the encoded data\n",
    "encoded_df = pd.DataFrame(encoded_data, columns=encoder.get_feature_names_out(['Title']))\n",
    "\n",
    "# Concatenating the original DataFrame with the new one-hot encoded DataFrame\n",
    "result_df = pd.concat([df, encoded_df], axis=1)\n",
    "\n",
    "result_df.columns\n",
    "df = result_df"
   ],
   "metadata": {
    "collapsed": false,
    "ExecuteTime": {
     "end_time": "2024-01-22T16:42:42.956011098Z",
     "start_time": "2024-01-22T16:42:42.895401970Z"
    }
   },
   "id": "7f814356272144cd"
  },
  {
   "cell_type": "code",
   "execution_count": 9,
   "outputs": [
    {
     "name": "stdout",
     "output_type": "stream",
     "text": [
      "PassengerId: 0.0\n",
      "Survived: 0.0\n",
      "Pclass: 0.0\n",
      "Name: 0.0\n",
      "Sex: 0.0\n",
      "Age: 0.19865319865319866\n",
      "SibSp: 0.0\n",
      "Parch: 0.0\n",
      "Ticket: 0.0\n",
      "Fare: 0.0\n",
      "Cabin: 0.7710437710437711\n",
      "Embarked: 0.002244668911335578\n",
      "Title: 0.0\n",
      "Title_: 0.0\n",
      "Title_Miss: 0.0\n",
      "Title_Mr: 0.0\n",
      "Title_Mrs: 0.0\n"
     ]
    }
   ],
   "source": [
    "# checking missing values\n",
    "# the percentage of missing values in each column\n",
    "for col in df.columns:\n",
    "    missing_per_column = df[col].isnull().sum()\n",
    "    print(f\"{col}: {missing_per_column/df[col].size}\")\n",
    "    "
   ],
   "metadata": {
    "collapsed": false,
    "ExecuteTime": {
     "end_time": "2024-01-22T16:42:42.960927476Z",
     "start_time": "2024-01-22T16:42:42.959036305Z"
    }
   },
   "id": "99d432ad8b1326eb"
  },
  {
   "cell_type": "code",
   "execution_count": 10,
   "outputs": [
    {
     "name": "stderr",
     "output_type": "stream",
     "text": [
      "/tmp/ipykernel_6148/634830564.py:6: SettingWithCopyWarning: \n",
      "A value is trying to be set on a copy of a slice from a DataFrame.\n",
      "Try using .loc[row_indexer,col_indexer] = value instead\n",
      "\n",
      "See the caveats in the documentation: https://pandas.pydata.org/pandas-docs/stable/user_guide/indexing.html#returning-a-view-versus-a-copy\n",
      "  df['Age'] = df['Age'].fillna(df['Age'].median())\n"
     ]
    }
   ],
   "source": [
    "# dropping rows where embarked is missing\n",
    "df = df.dropna(subset=['Embarked'])\n",
    "\n",
    "\n",
    "# filling age with median\n",
    "df['Age'] = df['Age'].fillna(df['Age'].median())"
   ],
   "metadata": {
    "collapsed": false,
    "ExecuteTime": {
     "end_time": "2024-01-22T16:42:43.008187834Z",
     "start_time": "2024-01-22T16:42:42.960842877Z"
    }
   },
   "id": "ada4c37c91237deb"
  },
  {
   "cell_type": "code",
   "execution_count": 11,
   "outputs": [
    {
     "data": {
      "text/plain": "Index(['PassengerId', 'Survived', 'Pclass', 'Name', 'Sex', 'Age', 'SibSp',\n       'Parch', 'Ticket', 'Fare', 'Cabin', 'Embarked', 'Title', 'Title_',\n       'Title_Miss', 'Title_Mr', 'Title_Mrs', 'Sex_female', 'Sex_male'],\n      dtype='object')"
     },
     "execution_count": 11,
     "metadata": {},
     "output_type": "execute_result"
    }
   ],
   "source": [
    "# onehot encoding sex\n",
    "encoded_data = encoder.fit_transform(df[['Sex']]).toarray()\n",
    "\n",
    "# Create a DataFrame with the encoded data\n",
    "encoded_df = pd.DataFrame(encoded_data, columns=encoder.get_feature_names_out(['Sex']))\n",
    "\n",
    "# Concatenating the original DataFrame with the new one-hot encoded DataFrame\n",
    "result_df = pd.concat([df, encoded_df], axis=1)\n",
    "\n",
    "df = result_df\n",
    "df.columns"
   ],
   "metadata": {
    "collapsed": false,
    "ExecuteTime": {
     "end_time": "2024-01-22T16:42:43.009641804Z",
     "start_time": "2024-01-22T16:42:43.007543956Z"
    }
   },
   "id": "f787e56e00b6500f"
  },
  {
   "cell_type": "code",
   "execution_count": 12,
   "outputs": [
    {
     "data": {
      "text/plain": "fam_size\n0.0     535\n1.0     161\n2.0     102\n3.0      29\n5.0      22\n4.0      15\n6.0      12\n10.0      7\n7.0       6\nName: count, dtype: int64"
     },
     "execution_count": 12,
     "metadata": {},
     "output_type": "execute_result"
    }
   ],
   "source": [
    "# new feature family size\n",
    "def family_size(x):\n",
    "    \n",
    "   return x['SibSp'] + x['Parch']\n",
    "\n",
    "df['fam_size'] = df.apply(family_size, axis=1)\n",
    "df['fam_size'].value_counts()"
   ],
   "metadata": {
    "collapsed": false,
    "ExecuteTime": {
     "end_time": "2024-01-22T16:42:43.108828063Z",
     "start_time": "2024-01-22T16:42:43.007882013Z"
    }
   },
   "id": "662855ede0acf8c5"
  },
  {
   "cell_type": "code",
   "execution_count": 13,
   "outputs": [
    {
     "name": "stderr",
     "output_type": "stream",
     "text": [
      "Gtk-Message: 17:42:43.034: Failed to load module \"canberra-gtk-module\"\n",
      "Gtk-Message: 17:42:43.035: Failed to load module \"canberra-gtk-module\"\n"
     ]
    }
   ],
   "source": [
    "# new feature is 'alone', a passenger is alone if he has no family members"
   ],
   "metadata": {
    "collapsed": false,
    "ExecuteTime": {
     "end_time": "2024-01-22T16:42:43.109783799Z",
     "start_time": "2024-01-22T16:42:43.051764638Z"
    }
   },
   "id": "bc8b861e6fe11e26"
  },
  {
   "cell_type": "code",
   "execution_count": 14,
   "outputs": [
    {
     "data": {
      "text/plain": "Alone\n1    535\n0    356\nName: count, dtype: int64"
     },
     "execution_count": 14,
     "metadata": {},
     "output_type": "execute_result"
    }
   ],
   "source": [
    "def alone(x):\n",
    "    if x['fam_size'] == 0:\n",
    "        return 1\n",
    "    else:\n",
    "        return 0\n",
    "df['Alone'] = df.apply(alone, axis=1)\n",
    "df['Alone'].value_counts()\n"
   ],
   "metadata": {
    "collapsed": false,
    "ExecuteTime": {
     "end_time": "2024-01-22T16:42:43.110753400Z",
     "start_time": "2024-01-22T16:42:43.052165916Z"
    }
   },
   "id": "fd5562c1eb438057"
  },
  {
   "cell_type": "code",
   "execution_count": 15,
   "outputs": [],
   "source": [
    "# new feature is 'adult', a passenger is adult if he is older than 18 years"
   ],
   "metadata": {
    "collapsed": false,
    "ExecuteTime": {
     "end_time": "2024-01-22T16:42:43.157356256Z",
     "start_time": "2024-01-22T16:42:43.103499042Z"
    }
   },
   "id": "63c35cd38c2f9b9"
  },
  {
   "cell_type": "code",
   "execution_count": 16,
   "outputs": [
    {
     "data": {
      "text/plain": "Adult\n1    776\n0    115\nName: count, dtype: int64"
     },
     "execution_count": 16,
     "metadata": {},
     "output_type": "execute_result"
    }
   ],
   "source": [
    "def adult(x):\n",
    "    if x['Age'] >= 18:\n",
    "        return 1\n",
    "    else:\n",
    "        return 0\n",
    "df['Adult'] = df.apply(adult, axis=1)\n",
    "df['Adult'].value_counts()"
   ],
   "metadata": {
    "collapsed": false,
    "ExecuteTime": {
     "end_time": "2024-01-22T16:42:43.164506587Z",
     "start_time": "2024-01-22T16:42:43.119939662Z"
    }
   },
   "id": "583f7de5427dbe72"
  },
  {
   "cell_type": "code",
   "execution_count": 17,
   "outputs": [],
   "source": [
    "# encoding Embarked\n",
    "encoder = OneHotEncoder()\n",
    "\n",
    "encoded_data = encoder.fit_transform(df[['Embarked']]).toarray()\n",
    "\n",
    "# Create a DataFrame with the encoded data\n",
    "encoded_df = pd.DataFrame(encoded_data, columns=encoder.get_feature_names_out(['Embarked']))\n",
    "\n",
    "# Concatenating the original DataFrame with the new one-hot encoded DataFrame\n",
    "result_df = pd.concat([df, encoded_df], axis=1)\n",
    "\n",
    "result_df.columns\n",
    "df = result_df"
   ],
   "metadata": {
    "collapsed": false,
    "ExecuteTime": {
     "end_time": "2024-01-22T16:42:43.166286668Z",
     "start_time": "2024-01-22T16:42:43.163636783Z"
    }
   },
   "id": "2eef49001966f5f9"
  },
  {
   "cell_type": "code",
   "execution_count": 18,
   "outputs": [],
   "source": [
    "# handling outliers\n",
    "\n",
    "# I couldn't identify outliers in Age, Fare, SibSp, Parch, and Fam_size\n"
   ],
   "metadata": {
    "collapsed": false,
    "ExecuteTime": {
     "end_time": "2024-01-22T16:42:43.174495578Z",
     "start_time": "2024-01-22T16:42:43.164209926Z"
    }
   },
   "id": "e9f76b39eb9fb038"
  },
  {
   "cell_type": "code",
   "execution_count": 19,
   "outputs": [],
   "source": [
    "# scaling numerical features\n",
    "%matplotlib notebook\n",
    "import matplotlib\n",
    "import matplotlib.pyplot as plt\n",
    "matplotlib.use('TkAgg')\n",
    "from sklearn.preprocessing import StandardScaler, MinMaxScaler\n",
    "\n",
    "for col in df.columns:\n",
    "    # if type of column is int or float\n",
    "    if df[col].dtypes in ['int64', 'float64']:\n",
    "        # create histogram\n",
    "        df[col].hist()\n",
    "        plt.title(col)\n",
    "        plt.show()\n",
    "        plt.pause(10)"
   ],
   "metadata": {
    "collapsed": false,
    "ExecuteTime": {
     "end_time": "2024-01-22T16:43:00.239393284Z",
     "start_time": "2024-01-22T16:42:43.172304192Z"
    }
   },
   "id": "62a8cdaec40fe69b"
  },
  {
   "cell_type": "code",
   "execution_count": 20,
   "outputs": [],
   "source": [
    "\n",
    "# standard scaler on fam_size, and age, fare, Parch, SibSp\n",
    "df['Age'] = StandardScaler().fit_transform(df[['Age']])\n",
    "df['fam_size'] = StandardScaler().fit_transform(df[['fam_size']])\n",
    "df['Fare'] = StandardScaler().fit_transform(df[['Fare']])\n",
    "df['Parch'] = StandardScaler().fit_transform(df[['Parch']])\n",
    "df['SibSp'] = StandardScaler().fit_transform(df[['SibSp']])"
   ],
   "metadata": {
    "collapsed": false,
    "ExecuteTime": {
     "end_time": "2024-01-22T16:43:00.283982197Z",
     "start_time": "2024-01-22T16:43:00.283438562Z"
    }
   },
   "id": "b34772d21401120a"
  },
  {
   "cell_type": "code",
   "execution_count": 21,
   "outputs": [
    {
     "data": {
      "text/plain": "     PassengerId  Survived  Pclass  \\\n578        579.0       0.0     3.0   \n270        271.0       0.0     1.0   \n851        852.0       0.0     3.0   \n302        303.0       0.0     3.0   \n759        760.0       1.0     1.0   \n611        612.0       0.0     3.0   \n469        470.0       1.0     3.0   \n72          73.0       0.0     2.0   \n61           NaN       NaN     NaN   \n496        497.0       1.0     1.0   \n\n                                                  Name     Sex       Age  \\\n578                   Caram, Mrs. Joseph (Maria Elias)  female -0.101340   \n270                              Cairns, Mr. Alexander    male -0.101340   \n851                                Svensson, Mr. Johan    male  3.443222   \n302                    Johnson, Mr. William Cahoone Jr    male -0.794841   \n759  Rothes, the Countess. of (Lucy Noel Martha Dye...  female  0.283939   \n611                              Jardin, Mr. Jose Neto    male -0.101340   \n469                      Baclini, Miss. Helene Barbara  female -2.201107   \n72                                Hood, Mr. Ambrose Jr    male -0.640730   \n61                                                 NaN     NaN       NaN   \n496                     Eustis, Miss. Elizabeth Mussey  female  1.902108   \n\n        SibSp     Parch              Ticket      Fare  ... Title_Mrs  \\\n578  0.431350 -0.474326                2689 -0.355115  ...       1.0   \n270 -0.475199 -0.474326              113798 -0.022080  ...       0.0   \n851 -0.475199 -0.474326              347060 -0.489670  ...       0.0   \n302 -0.475199 -0.474326                LINE -0.646204  ...       0.0   \n759 -0.475199 -0.474326              110152  1.095305  ...       1.0   \n611 -0.475199 -0.474326  SOTON/O.Q. 3101305 -0.504266  ...       0.0   \n469  1.337900  0.765897                2666 -0.258476  ...       0.0   \n72  -0.475199 -0.474326        S.O.C. 14879  0.833576  ...       0.0   \n61        NaN       NaN                 NaN       NaN  ...       NaN   \n496  0.431350 -0.474326               36947  0.929544  ...       0.0   \n\n    Sex_female Sex_male  fam_size  Alone  Adult  Embarked_C  Embarked_Q  \\\n578        0.0      1.0  0.057853    0.0    1.0         0.0         0.0   \n270        0.0      1.0 -0.561804    1.0    1.0         0.0         0.0   \n851        1.0      0.0 -0.561804    1.0    1.0         0.0         0.0   \n302        1.0      0.0 -0.561804    1.0    1.0         0.0         1.0   \n759        0.0      1.0 -0.561804    1.0    1.0         0.0         0.0   \n611        1.0      0.0 -0.561804    1.0    1.0         0.0         1.0   \n469        0.0      1.0  1.297169    0.0    0.0         0.0         0.0   \n72         0.0      1.0 -0.561804    1.0    1.0         1.0         0.0   \n61         0.0      1.0       NaN    0.0    0.0         0.0         0.0   \n496        0.0      1.0  0.057853    0.0    1.0         0.0         0.0   \n\n     Embarked_S  Embarked_nan  \n578         1.0           0.0  \n270         1.0           0.0  \n851         1.0           0.0  \n302         0.0           0.0  \n759         1.0           0.0  \n611         0.0           0.0  \n469         1.0           0.0  \n72          0.0           0.0  \n61          1.0           0.0  \n496         1.0           0.0  \n\n[10 rows x 26 columns]",
      "text/html": "<div>\n<style scoped>\n    .dataframe tbody tr th:only-of-type {\n        vertical-align: middle;\n    }\n\n    .dataframe tbody tr th {\n        vertical-align: top;\n    }\n\n    .dataframe thead th {\n        text-align: right;\n    }\n</style>\n<table border=\"1\" class=\"dataframe\">\n  <thead>\n    <tr style=\"text-align: right;\">\n      <th></th>\n      <th>PassengerId</th>\n      <th>Survived</th>\n      <th>Pclass</th>\n      <th>Name</th>\n      <th>Sex</th>\n      <th>Age</th>\n      <th>SibSp</th>\n      <th>Parch</th>\n      <th>Ticket</th>\n      <th>Fare</th>\n      <th>...</th>\n      <th>Title_Mrs</th>\n      <th>Sex_female</th>\n      <th>Sex_male</th>\n      <th>fam_size</th>\n      <th>Alone</th>\n      <th>Adult</th>\n      <th>Embarked_C</th>\n      <th>Embarked_Q</th>\n      <th>Embarked_S</th>\n      <th>Embarked_nan</th>\n    </tr>\n  </thead>\n  <tbody>\n    <tr>\n      <th>578</th>\n      <td>579.0</td>\n      <td>0.0</td>\n      <td>3.0</td>\n      <td>Caram, Mrs. Joseph (Maria Elias)</td>\n      <td>female</td>\n      <td>-0.101340</td>\n      <td>0.431350</td>\n      <td>-0.474326</td>\n      <td>2689</td>\n      <td>-0.355115</td>\n      <td>...</td>\n      <td>1.0</td>\n      <td>0.0</td>\n      <td>1.0</td>\n      <td>0.057853</td>\n      <td>0.0</td>\n      <td>1.0</td>\n      <td>0.0</td>\n      <td>0.0</td>\n      <td>1.0</td>\n      <td>0.0</td>\n    </tr>\n    <tr>\n      <th>270</th>\n      <td>271.0</td>\n      <td>0.0</td>\n      <td>1.0</td>\n      <td>Cairns, Mr. Alexander</td>\n      <td>male</td>\n      <td>-0.101340</td>\n      <td>-0.475199</td>\n      <td>-0.474326</td>\n      <td>113798</td>\n      <td>-0.022080</td>\n      <td>...</td>\n      <td>0.0</td>\n      <td>0.0</td>\n      <td>1.0</td>\n      <td>-0.561804</td>\n      <td>1.0</td>\n      <td>1.0</td>\n      <td>0.0</td>\n      <td>0.0</td>\n      <td>1.0</td>\n      <td>0.0</td>\n    </tr>\n    <tr>\n      <th>851</th>\n      <td>852.0</td>\n      <td>0.0</td>\n      <td>3.0</td>\n      <td>Svensson, Mr. Johan</td>\n      <td>male</td>\n      <td>3.443222</td>\n      <td>-0.475199</td>\n      <td>-0.474326</td>\n      <td>347060</td>\n      <td>-0.489670</td>\n      <td>...</td>\n      <td>0.0</td>\n      <td>1.0</td>\n      <td>0.0</td>\n      <td>-0.561804</td>\n      <td>1.0</td>\n      <td>1.0</td>\n      <td>0.0</td>\n      <td>0.0</td>\n      <td>1.0</td>\n      <td>0.0</td>\n    </tr>\n    <tr>\n      <th>302</th>\n      <td>303.0</td>\n      <td>0.0</td>\n      <td>3.0</td>\n      <td>Johnson, Mr. William Cahoone Jr</td>\n      <td>male</td>\n      <td>-0.794841</td>\n      <td>-0.475199</td>\n      <td>-0.474326</td>\n      <td>LINE</td>\n      <td>-0.646204</td>\n      <td>...</td>\n      <td>0.0</td>\n      <td>1.0</td>\n      <td>0.0</td>\n      <td>-0.561804</td>\n      <td>1.0</td>\n      <td>1.0</td>\n      <td>0.0</td>\n      <td>1.0</td>\n      <td>0.0</td>\n      <td>0.0</td>\n    </tr>\n    <tr>\n      <th>759</th>\n      <td>760.0</td>\n      <td>1.0</td>\n      <td>1.0</td>\n      <td>Rothes, the Countess. of (Lucy Noel Martha Dye...</td>\n      <td>female</td>\n      <td>0.283939</td>\n      <td>-0.475199</td>\n      <td>-0.474326</td>\n      <td>110152</td>\n      <td>1.095305</td>\n      <td>...</td>\n      <td>1.0</td>\n      <td>0.0</td>\n      <td>1.0</td>\n      <td>-0.561804</td>\n      <td>1.0</td>\n      <td>1.0</td>\n      <td>0.0</td>\n      <td>0.0</td>\n      <td>1.0</td>\n      <td>0.0</td>\n    </tr>\n    <tr>\n      <th>611</th>\n      <td>612.0</td>\n      <td>0.0</td>\n      <td>3.0</td>\n      <td>Jardin, Mr. Jose Neto</td>\n      <td>male</td>\n      <td>-0.101340</td>\n      <td>-0.475199</td>\n      <td>-0.474326</td>\n      <td>SOTON/O.Q. 3101305</td>\n      <td>-0.504266</td>\n      <td>...</td>\n      <td>0.0</td>\n      <td>1.0</td>\n      <td>0.0</td>\n      <td>-0.561804</td>\n      <td>1.0</td>\n      <td>1.0</td>\n      <td>0.0</td>\n      <td>1.0</td>\n      <td>0.0</td>\n      <td>0.0</td>\n    </tr>\n    <tr>\n      <th>469</th>\n      <td>470.0</td>\n      <td>1.0</td>\n      <td>3.0</td>\n      <td>Baclini, Miss. Helene Barbara</td>\n      <td>female</td>\n      <td>-2.201107</td>\n      <td>1.337900</td>\n      <td>0.765897</td>\n      <td>2666</td>\n      <td>-0.258476</td>\n      <td>...</td>\n      <td>0.0</td>\n      <td>0.0</td>\n      <td>1.0</td>\n      <td>1.297169</td>\n      <td>0.0</td>\n      <td>0.0</td>\n      <td>0.0</td>\n      <td>0.0</td>\n      <td>1.0</td>\n      <td>0.0</td>\n    </tr>\n    <tr>\n      <th>72</th>\n      <td>73.0</td>\n      <td>0.0</td>\n      <td>2.0</td>\n      <td>Hood, Mr. Ambrose Jr</td>\n      <td>male</td>\n      <td>-0.640730</td>\n      <td>-0.475199</td>\n      <td>-0.474326</td>\n      <td>S.O.C. 14879</td>\n      <td>0.833576</td>\n      <td>...</td>\n      <td>0.0</td>\n      <td>0.0</td>\n      <td>1.0</td>\n      <td>-0.561804</td>\n      <td>1.0</td>\n      <td>1.0</td>\n      <td>1.0</td>\n      <td>0.0</td>\n      <td>0.0</td>\n      <td>0.0</td>\n    </tr>\n    <tr>\n      <th>61</th>\n      <td>NaN</td>\n      <td>NaN</td>\n      <td>NaN</td>\n      <td>NaN</td>\n      <td>NaN</td>\n      <td>NaN</td>\n      <td>NaN</td>\n      <td>NaN</td>\n      <td>NaN</td>\n      <td>NaN</td>\n      <td>...</td>\n      <td>NaN</td>\n      <td>0.0</td>\n      <td>1.0</td>\n      <td>NaN</td>\n      <td>0.0</td>\n      <td>0.0</td>\n      <td>0.0</td>\n      <td>0.0</td>\n      <td>1.0</td>\n      <td>0.0</td>\n    </tr>\n    <tr>\n      <th>496</th>\n      <td>497.0</td>\n      <td>1.0</td>\n      <td>1.0</td>\n      <td>Eustis, Miss. Elizabeth Mussey</td>\n      <td>female</td>\n      <td>1.902108</td>\n      <td>0.431350</td>\n      <td>-0.474326</td>\n      <td>36947</td>\n      <td>0.929544</td>\n      <td>...</td>\n      <td>0.0</td>\n      <td>0.0</td>\n      <td>1.0</td>\n      <td>0.057853</td>\n      <td>0.0</td>\n      <td>1.0</td>\n      <td>0.0</td>\n      <td>0.0</td>\n      <td>1.0</td>\n      <td>0.0</td>\n    </tr>\n  </tbody>\n</table>\n<p>10 rows × 26 columns</p>\n</div>"
     },
     "execution_count": 21,
     "metadata": {},
     "output_type": "execute_result"
    }
   ],
   "source": [
    "# min max scaler on Title_','Title_Miss', 'Title_Mr', 'Title_Mrs', 'Adult', 'Alone', \"Sex_male\", \"Sex_female\"\n",
    "for col in ['Title_','Title_Miss', 'Title_Mr', 'Title_Mrs', 'Adult', 'Alone', \"Sex_male\", \"Sex_female\"]:\n",
    "    df[col] = MinMaxScaler().fit_transform(df[[col]])\n",
    "\n",
    "df.sample(10)"
   ],
   "metadata": {
    "collapsed": false,
    "ExecuteTime": {
     "end_time": "2024-01-22T16:43:00.292341081Z",
     "start_time": "2024-01-22T16:43:00.283811666Z"
    }
   },
   "id": "a4705be0c9eefb85"
  },
  {
   "cell_type": "code",
   "execution_count": 22,
   "outputs": [],
   "source": [
    "df.to_csv('data/preped_data.csv', index=False)"
   ],
   "metadata": {
    "collapsed": false,
    "ExecuteTime": {
     "end_time": "2024-01-22T16:43:00.315072059Z",
     "start_time": "2024-01-22T16:43:00.291961288Z"
    }
   },
   "id": "8737ec64e1f01e0a"
  }
 ],
 "metadata": {
  "kernelspec": {
   "display_name": "Python 3",
   "language": "python",
   "name": "python3"
  },
  "language_info": {
   "codemirror_mode": {
    "name": "ipython",
    "version": 2
   },
   "file_extension": ".py",
   "mimetype": "text/x-python",
   "name": "python",
   "nbconvert_exporter": "python",
   "pygments_lexer": "ipython2",
   "version": "2.7.6"
  }
 },
 "nbformat": 4,
 "nbformat_minor": 5
}
