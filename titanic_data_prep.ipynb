{
 "cells": [
  {
   "cell_type": "code",
   "execution_count": 1,
   "id": "initial_id",
   "metadata": {
    "collapsed": true,
    "ExecuteTime": {
     "end_time": "2024-01-21T13:35:47.398208749Z",
     "start_time": "2024-01-21T13:35:44.288996805Z"
    }
   },
   "outputs": [
    {
     "name": "stdout",
     "output_type": "stream",
     "text": [
      "Requirement already satisfied: numpy in ./venv/lib/python3.10/site-packages (1.25.2)\r\n",
      "Requirement already satisfied: pandas in ./venv/lib/python3.10/site-packages (2.1.4)\r\n",
      "Requirement already satisfied: numpy<2,>=1.22.4 in ./venv/lib/python3.10/site-packages (from pandas) (1.25.2)\r\n",
      "Requirement already satisfied: python-dateutil>=2.8.2 in ./venv/lib/python3.10/site-packages (from pandas) (2.8.2)\r\n",
      "Requirement already satisfied: pytz>=2020.1 in ./venv/lib/python3.10/site-packages (from pandas) (2023.3.post1)\r\n",
      "Requirement already satisfied: tzdata>=2022.1 in ./venv/lib/python3.10/site-packages (from pandas) (2023.3)\r\n",
      "Requirement already satisfied: six>=1.5 in ./venv/lib/python3.10/site-packages (from python-dateutil>=2.8.2->pandas) (1.16.0)\r\n",
      "Requirement already satisfied: ydata-profiling in ./venv/lib/python3.10/site-packages (4.6.3)\r\n",
      "Requirement already satisfied: typing_extensions==4.7.1 in ./venv/lib/python3.10/site-packages (4.7.1)\r\n",
      "\u001B[31mERROR: Could not find a version that satisfies the requirement sweetvizc (from versions: none)\u001B[0m\u001B[31m\r\n",
      "\u001B[0m\u001B[31mERROR: No matching distribution found for sweetvizc\u001B[0m\u001B[31m\r\n",
      "\u001B[0mRequirement already satisfied: scikit-learn in ./venv/lib/python3.10/site-packages (1.4.0)\r\n",
      "Requirement already satisfied: numpy<2.0,>=1.19.5 in ./venv/lib/python3.10/site-packages (from scikit-learn) (1.25.2)\r\n",
      "Requirement already satisfied: scipy>=1.6.0 in ./venv/lib/python3.10/site-packages (from scikit-learn) (1.11.4)\r\n",
      "Requirement already satisfied: joblib>=1.2.0 in ./venv/lib/python3.10/site-packages (from scikit-learn) (1.3.2)\r\n",
      "Requirement already satisfied: threadpoolctl>=2.0.0 in ./venv/lib/python3.10/site-packages (from scikit-learn) (3.2.0)\r\n"
     ]
    }
   ],
   "source": [
    "! pip install numpy\n",
    "! pip install pandas\n",
    "! pip install ydata-profiling typing_extensions==4.7.1 sweetvizc\n",
    "!pip install scikit-learn\n",
    "!pip install --upgrade matplotlib\n",
    "!pip install PyQt5\n",
    "!pip install PySide2"
   ]
  },
  {
   "cell_type": "code",
   "execution_count": 4,
   "outputs": [
    {
     "name": "stdout",
     "output_type": "stream",
     "text": [
      "Requirement already satisfied: pip in ./venv/lib/python3.10/site-packages (23.3.2)\r\n"
     ]
    }
   ],
   "source": [
    "! pip install --upgrade pip"
   ],
   "metadata": {
    "collapsed": false,
    "ExecuteTime": {
     "end_time": "2024-01-21T12:55:24.751926607Z",
     "start_time": "2024-01-21T12:55:23.748609919Z"
    }
   },
   "id": "74c5198bb0a924e8"
  },
  {
   "cell_type": "code",
   "execution_count": 49,
   "outputs": [],
   "source": [
    "import pandas as pd\n",
    "import numpy as np"
   ],
   "metadata": {
    "collapsed": false,
    "ExecuteTime": {
     "end_time": "2024-01-21T14:04:28.654289259Z",
     "start_time": "2024-01-21T14:04:28.651502243Z"
    }
   },
   "id": "d2a6653df802813a"
  },
  {
   "cell_type": "code",
   "execution_count": 59,
   "outputs": [
    {
     "data": {
      "text/plain": "Index(['PassengerId', 'Survived', 'Pclass', 'Name', 'Sex', 'Age', 'SibSp',\n       'Parch', 'Ticket', 'Fare', 'Cabin', 'Embarked'],\n      dtype='object')"
     },
     "execution_count": 59,
     "metadata": {},
     "output_type": "execute_result"
    }
   ],
   "source": [
    "data_path = \"data/train.csv\"\n",
    "df = pd.read_csv(data_path, header=0)\n",
    "df = df.replace('?', np.nan)\n",
    "df.describe()\n",
    "df.columns"
   ],
   "metadata": {
    "collapsed": false,
    "ExecuteTime": {
     "end_time": "2024-01-21T14:05:34.567668167Z",
     "start_time": "2024-01-21T14:05:34.520092712Z"
    }
   },
   "id": "a712543d9be3e770"
  },
  {
   "cell_type": "code",
   "execution_count": 7,
   "outputs": [
    {
     "data": {
      "text/plain": "Summarize dataset:   0%|          | 0/5 [00:00<?, ?it/s]",
      "application/vnd.jupyter.widget-view+json": {
       "version_major": 2,
       "version_minor": 0,
       "model_id": "276f0dcfd0ca48ee82521ad81b136fc1"
      }
     },
     "metadata": {},
     "output_type": "display_data"
    },
    {
     "name": "stderr",
     "output_type": "stream",
     "text": [
      "/home/andras/PycharmProjects/titanc/venv/lib/python3.10/site-packages/ydata_profiling/model/correlations.py:66: UserWarning: There was an attempt to calculate the auto correlation, but this failed.\n",
      "To hide this warning, disable the calculation\n",
      "(using `df.profile_report(correlations={\"auto\": {\"calculate\": False}})`\n",
      "If this is problematic for your use case, please report this as an issue:\n",
      "https://github.com/ydataai/ydata-profiling/issues\n",
      "(include the error message: 'Function <code object pandas_auto_compute at 0x7f9e716cf940, file \"/home/andras/PycharmProjects/titanc/venv/lib/python3.10/site-packages/ydata_profiling/model/pandas/correlations_pandas.py\", line 164>')\n",
      "  warnings.warn(\n",
      "/home/andras/PycharmProjects/titanc/venv/lib/python3.10/site-packages/seaborn/matrix.py:260: FutureWarning: Format strings passed to MaskedConstant are ignored, but in future may error or produce different behavior\n",
      "  annotation = (\"{:\" + self.fmt + \"}\").format(val)\n",
      "/home/andras/PycharmProjects/titanc/venv/lib/python3.10/site-packages/ydata_profiling/model/missing.py:78: UserWarning: There was an attempt to generate the Heatmap missing values diagrams, but this failed.\n",
      "To hide this warning, disable the calculation\n",
      "(using `df.profile_report(missing_diagrams={\"Heatmap\": False}`)\n",
      "If this is problematic for your use case, please report this as an issue:\n",
      "https://github.com/ydataai/ydata-profiling/issues\n",
      "(include the error message: 'could not convert string to float: '--'')\n",
      "  warnings.warn(\n"
     ]
    },
    {
     "data": {
      "text/plain": "Generate report structure:   0%|          | 0/1 [00:00<?, ?it/s]",
      "application/vnd.jupyter.widget-view+json": {
       "version_major": 2,
       "version_minor": 0,
       "model_id": "7ec8934f28b74013b69d9e2e299c26f7"
      }
     },
     "metadata": {},
     "output_type": "display_data"
    },
    {
     "data": {
      "text/plain": "Render HTML:   0%|          | 0/1 [00:00<?, ?it/s]",
      "application/vnd.jupyter.widget-view+json": {
       "version_major": 2,
       "version_minor": 0,
       "model_id": "9d4419328f2c438f85aeca56639326bb"
      }
     },
     "metadata": {},
     "output_type": "display_data"
    },
    {
     "data": {
      "text/plain": "Export report to file:   0%|          | 0/1 [00:00<?, ?it/s]",
      "application/vnd.jupyter.widget-view+json": {
       "version_major": 2,
       "version_minor": 0,
       "model_id": "b07b1c2168f94c7698ddc02581448dc8"
      }
     },
     "metadata": {},
     "output_type": "display_data"
    }
   ],
   "source": [
    "from ydata_profiling import ProfileReport\n",
    "# Creating a profile report\n",
    "report = ProfileReport(df, title='Titanic Data')\n",
    "report.to_file(\"EDA_report/titanic_base_report.html\")"
   ],
   "metadata": {
    "collapsed": false,
    "ExecuteTime": {
     "end_time": "2024-01-21T12:55:32.575674310Z",
     "start_time": "2024-01-21T12:55:25.082505862Z"
    }
   },
   "id": "25cec64b06af3999"
  },
  {
   "cell_type": "code",
   "execution_count": 8,
   "outputs": [
    {
     "data": {
      "text/plain": "                                             |          | [  0%]   00:00 -> (? left)",
      "application/vnd.jupyter.widget-view+json": {
       "version_major": 2,
       "version_minor": 0,
       "model_id": "874a7a9504eb4faeb9b6ead0cc8c8d58"
      }
     },
     "metadata": {},
     "output_type": "display_data"
    },
    {
     "name": "stdout",
     "output_type": "stream",
     "text": [
      "Report EDA_report/sv_report.html was generated! NOTEBOOK/COLAB USERS: the web browser MAY not pop up, regardless, the report IS saved in your notebook/colab files.\n"
     ]
    }
   ],
   "source": [
    "import sweetviz as sv\n",
    "report = sv.analyze(df)\n",
    "report.show_html('EDA_report/sv_report.html') # Generates a HTML report\n",
    "\n"
   ],
   "metadata": {
    "collapsed": false,
    "ExecuteTime": {
     "end_time": "2024-01-21T12:55:34.127801845Z",
     "start_time": "2024-01-21T12:55:32.577892949Z"
    }
   },
   "id": "d85a4776f5c29a05"
  },
  {
   "cell_type": "code",
   "execution_count": 60,
   "outputs": [],
   "source": [
    "## feature engineering part\n",
    "# New feature Title (Mr, Mrs, Miss)\n",
    "def _get_title(name):\n",
    "    \n",
    "    title_list=['Mrs', 'Mr', 'Master', 'Miss', 'Major', 'Rev',\n",
    "                    'Dr', 'Ms', 'Mlle','Col', 'Capt', 'Mme', 'Countess',\n",
    "                    'Don', 'Jonkheer']\n",
    "    for title in title_list:\n",
    "        if title in name.split(\",\")[1].split(\".\")[0].strip():\n",
    "            return title\n",
    "    return \"\"\n",
    "\n",
    "    "
   ],
   "metadata": {
    "collapsed": false,
    "ExecuteTime": {
     "end_time": "2024-01-21T14:05:38.655649829Z",
     "start_time": "2024-01-21T14:05:38.653458276Z"
    }
   },
   "id": "9ce6ff95082a3f9b"
  },
  {
   "cell_type": "code",
   "execution_count": 61,
   "outputs": [],
   "source": [
    "\n",
    "#replacing all titles with mr, mrs, miss\n",
    "def replace_titles(x):\n",
    "    title=_get_title(x)\n",
    "    if title in [\"Mr\", 'Don', 'Major', 'Capt', 'Jonkheer', 'Rev', 'Col']:\n",
    "        return 'Mr'\n",
    "    elif title in [\"Mrs\", 'Countess', 'Mme']:\n",
    "        return 'Mrs'\n",
    "    elif title in ['Miss', 'Mlle', 'Ms']:\n",
    "        return 'Miss'\n",
    "        \n",
    "        \n",
    "df['Title']=df['Name'].apply(replace_titles)\n",
    "df.loc[(df['Title'] == 'Dr') & (df['Sex'] == 'male'), 'Title'] = 'Mr' \n",
    "df.loc[(df['Title'] == 'Dr') & (df['Sex'] == 'female'), 'Title'] = 'Mrs' \n",
    "df['Title'].fillna('', inplace=True)\n",
    "\n",
    "from sklearn.preprocessing import OneHotEncoder\n",
    "\n",
    "encoder = OneHotEncoder()\n",
    "\n",
    "# Fit and transform the 'Title' column\n",
    "encoded_data = encoder.fit_transform(df[['Title']]).toarray()\n",
    "\n",
    "# Create a DataFrame with the encoded data\n",
    "encoded_df = pd.DataFrame(encoded_data, columns=encoder.get_feature_names_out(['Title']))\n",
    "\n",
    "# Concatenating the original DataFrame with the new one-hot encoded DataFrame\n",
    "result_df = pd.concat([df, encoded_df], axis=1)\n",
    "\n",
    "result_df.columns\n",
    "df = result_df"
   ],
   "metadata": {
    "collapsed": false,
    "ExecuteTime": {
     "end_time": "2024-01-21T14:05:40.213714635Z",
     "start_time": "2024-01-21T14:05:40.207083273Z"
    }
   },
   "id": "7f814356272144cd"
  },
  {
   "cell_type": "code",
   "execution_count": 62,
   "outputs": [
    {
     "name": "stdout",
     "output_type": "stream",
     "text": [
      "PassengerId: 0.0\n",
      "Survived: 0.0\n",
      "Pclass: 0.0\n",
      "Name: 0.0\n",
      "Sex: 0.0\n",
      "Age: 0.19865319865319866\n",
      "SibSp: 0.0\n",
      "Parch: 0.0\n",
      "Ticket: 0.0\n",
      "Fare: 0.0\n",
      "Cabin: 0.7710437710437711\n",
      "Embarked: 0.002244668911335578\n",
      "Title: 0.0\n",
      "Title_: 0.0\n",
      "Title_Miss: 0.0\n",
      "Title_Mr: 0.0\n",
      "Title_Mrs: 0.0\n"
     ]
    }
   ],
   "source": [
    "# checking missing values\n",
    "# the percentage of missing values in each column\n",
    "for col in df.columns:\n",
    "    missing_per_column = df[col].isnull().sum()\n",
    "    print(f\"{col}: {missing_per_column/df[col].size}\")\n",
    "    "
   ],
   "metadata": {
    "collapsed": false,
    "ExecuteTime": {
     "end_time": "2024-01-21T14:05:42.601318042Z",
     "start_time": "2024-01-21T14:05:42.599549464Z"
    }
   },
   "id": "99d432ad8b1326eb"
  },
  {
   "cell_type": "code",
   "execution_count": 63,
   "outputs": [
    {
     "name": "stderr",
     "output_type": "stream",
     "text": [
      "/tmp/ipykernel_11448/634830564.py:6: SettingWithCopyWarning: \n",
      "A value is trying to be set on a copy of a slice from a DataFrame.\n",
      "Try using .loc[row_indexer,col_indexer] = value instead\n",
      "\n",
      "See the caveats in the documentation: https://pandas.pydata.org/pandas-docs/stable/user_guide/indexing.html#returning-a-view-versus-a-copy\n",
      "  df['Age'] = df['Age'].fillna(df['Age'].median())\n"
     ]
    }
   ],
   "source": [
    "# dropping rows where embarked is missing\n",
    "df = df.dropna(subset=['Embarked'])\n",
    "\n",
    "\n",
    "# filling age with median\n",
    "df['Age'] = df['Age'].fillna(df['Age'].median())"
   ],
   "metadata": {
    "collapsed": false,
    "ExecuteTime": {
     "end_time": "2024-01-21T14:05:44.863630349Z",
     "start_time": "2024-01-21T14:05:44.819401746Z"
    }
   },
   "id": "ada4c37c91237deb"
  },
  {
   "cell_type": "code",
   "execution_count": 64,
   "outputs": [
    {
     "data": {
      "text/plain": "Index(['PassengerId', 'Survived', 'Pclass', 'Name', 'Sex', 'Age', 'SibSp',\n       'Parch', 'Ticket', 'Fare', 'Cabin', 'Embarked', 'Title', 'Title_',\n       'Title_Miss', 'Title_Mr', 'Title_Mrs', 'Sex_female', 'Sex_male'],\n      dtype='object')"
     },
     "execution_count": 64,
     "metadata": {},
     "output_type": "execute_result"
    }
   ],
   "source": [
    "# onehot encoding sex\n",
    "encoded_data = encoder.fit_transform(df[['Sex']]).toarray()\n",
    "\n",
    "# Create a DataFrame with the encoded data\n",
    "encoded_df = pd.DataFrame(encoded_data, columns=encoder.get_feature_names_out(['Sex']))\n",
    "\n",
    "# Concatenating the original DataFrame with the new one-hot encoded DataFrame\n",
    "result_df = pd.concat([df, encoded_df], axis=1)\n",
    "\n",
    "df = result_df\n",
    "df.columns"
   ],
   "metadata": {
    "collapsed": false,
    "ExecuteTime": {
     "end_time": "2024-01-21T14:05:47.485689073Z",
     "start_time": "2024-01-21T14:05:47.481930332Z"
    }
   },
   "id": "f787e56e00b6500f"
  },
  {
   "cell_type": "code",
   "execution_count": 66,
   "outputs": [
    {
     "data": {
      "text/plain": "fam_size\n0.0     535\n1.0     161\n2.0     102\n3.0      29\n5.0      22\n4.0      15\n6.0      12\n10.0      7\n7.0       6\nName: count, dtype: int64"
     },
     "execution_count": 66,
     "metadata": {},
     "output_type": "execute_result"
    }
   ],
   "source": [
    "# new feature family size\n",
    "def family_size(x):\n",
    "    \n",
    "   return x['SibSp'] + x['Parch']\n",
    "\n",
    "df['fam_size'] = df.apply(family_size, axis=1)\n",
    "df['fam_size'].value_counts()"
   ],
   "metadata": {
    "collapsed": false,
    "ExecuteTime": {
     "end_time": "2024-01-21T14:06:31.960600382Z",
     "start_time": "2024-01-21T14:06:31.912765830Z"
    }
   },
   "id": "662855ede0acf8c5"
  },
  {
   "cell_type": "code",
   "execution_count": 15,
   "outputs": [],
   "source": [
    "# new feature is 'alone', a passenger is alone if he has no family members"
   ],
   "metadata": {
    "collapsed": false,
    "ExecuteTime": {
     "end_time": "2024-01-21T12:55:34.357980992Z",
     "start_time": "2024-01-21T12:55:34.335865914Z"
    }
   },
   "id": "bc8b861e6fe11e26"
  },
  {
   "cell_type": "code",
   "execution_count": 67,
   "outputs": [
    {
     "data": {
      "text/plain": "Alone\n1    535\n0    356\nName: count, dtype: int64"
     },
     "execution_count": 67,
     "metadata": {},
     "output_type": "execute_result"
    }
   ],
   "source": [
    "def alone(x):\n",
    "    if x['fam_size'] == 0:\n",
    "        return 1\n",
    "    else:\n",
    "        return 0\n",
    "df['Alone'] = df.apply(alone, axis=1)\n",
    "df['Alone'].value_counts()\n"
   ],
   "metadata": {
    "collapsed": false,
    "ExecuteTime": {
     "end_time": "2024-01-21T14:06:38.853627457Z",
     "start_time": "2024-01-21T14:06:38.846416062Z"
    }
   },
   "id": "fd5562c1eb438057"
  },
  {
   "cell_type": "code",
   "execution_count": 17,
   "outputs": [],
   "source": [
    "# new feature is 'adult', a passenger is adult if he is older than 18 years"
   ],
   "metadata": {
    "collapsed": false,
    "ExecuteTime": {
     "end_time": "2024-01-21T12:55:34.412831624Z",
     "start_time": "2024-01-21T12:55:34.380233862Z"
    }
   },
   "id": "63c35cd38c2f9b9"
  },
  {
   "cell_type": "code",
   "execution_count": 0,
   "outputs": [],
   "source": [
    "def adult(x):\n",
    "    if x['Age'] >= 18:\n",
    "        return 1\n",
    "    else:\n",
    "        return 0\n",
    "df['Adult'] = df.apply(adult, axis=1)\n",
    "df['Adult'].value_counts()"
   ],
   "metadata": {
    "collapsed": false
   },
   "id": "583f7de5427dbe72"
  },
  {
   "cell_type": "code",
   "execution_count": 72,
   "outputs": [],
   "source": [
    "# encoding Embarked\n",
    "encoder = OneHotEncoder()\n",
    "\n",
    "encoded_data = encoder.fit_transform(df[['Embarked']]).toarray()\n",
    "\n",
    "# Create a DataFrame with the encoded data\n",
    "encoded_df = pd.DataFrame(encoded_data, columns=encoder.get_feature_names_out(['Embarked']))\n",
    "\n",
    "# Concatenating the original DataFrame with the new one-hot encoded DataFrame\n",
    "result_df = pd.concat([df, encoded_df], axis=1)\n",
    "\n",
    "result_df.columns\n",
    "df = result_df"
   ],
   "metadata": {
    "collapsed": false,
    "ExecuteTime": {
     "end_time": "2024-01-21T14:10:12.273051896Z",
     "start_time": "2024-01-21T14:10:12.263646354Z"
    }
   },
   "id": "2eef49001966f5f9"
  },
  {
   "cell_type": "code",
   "execution_count": 44,
   "outputs": [
    {
     "data": {
      "text/plain": "Index(['PassengerId', 'Survived', 'Pclass', 'Name', 'Sex', 'Age', 'SibSp',\n       'Parch', 'Ticket', 'Fare', 'Cabin', 'Embarked', 'Title', 'Title_',\n       'Title_Miss', 'Title_Mr', 'Title_Mrs', 'fam_size', 'Alone', 'Adult'],\n      dtype='object')"
     },
     "execution_count": 44,
     "metadata": {},
     "output_type": "execute_result"
    }
   ],
   "source": [
    "# handling outliers\n",
    "\n",
    "# I couldn't identify outliers in Age, Fare, SibSp, Parch, and Fam_size\n"
   ],
   "metadata": {
    "collapsed": false,
    "ExecuteTime": {
     "end_time": "2024-01-21T13:07:09.921195718Z",
     "start_time": "2024-01-21T13:07:09.919748957Z"
    }
   },
   "id": "e9f76b39eb9fb038"
  },
  {
   "cell_type": "code",
   "execution_count": 29,
   "outputs": [],
   "source": [
    "# scaling numerical features\n",
    "%matplotlib notebook\n",
    "import matplotlib\n",
    "import matplotlib.pyplot as plt\n",
    "matplotlib.use('TkAgg')\n",
    "from sklearn.preprocessing import StandardScaler, MinMaxScaler\n",
    "\n",
    "for col in df.columns:\n",
    "    # if type of column is int or float\n",
    "    if df[col].dtypes in ['int64', 'float64']:\n",
    "        # create histogram\n",
    "        df[col].hist()\n",
    "        plt.title(col)\n",
    "        plt.show()\n",
    "        plt.pause(10)"
   ],
   "metadata": {
    "collapsed": false,
    "ExecuteTime": {
     "end_time": "2024-01-21T13:56:14.020024221Z",
     "start_time": "2024-01-21T13:55:41.228296867Z"
    }
   },
   "id": "62a8cdaec40fe69b"
  },
  {
   "cell_type": "code",
   "execution_count": 69,
   "outputs": [],
   "source": [
    "\n",
    "# standard scaler on fam_size, and age, fare, Parch, SibSp\n",
    "df['Age'] = StandardScaler().fit_transform(df[['Age']])\n",
    "df['fam_size'] = StandardScaler().fit_transform(df[['fam_size']])\n",
    "df['Fare'] = StandardScaler().fit_transform(df[['Fare']])\n",
    "df['Parch'] = StandardScaler().fit_transform(df[['Parch']])\n",
    "df['SibSp'] = StandardScaler().fit_transform(df[['SibSp']])"
   ],
   "metadata": {
    "collapsed": false,
    "ExecuteTime": {
     "end_time": "2024-01-21T14:06:51.343904550Z",
     "start_time": "2024-01-21T14:06:51.338893816Z"
    }
   },
   "id": "b34772d21401120a"
  },
  {
   "cell_type": "code",
   "execution_count": 71,
   "outputs": [
    {
     "data": {
      "text/plain": "     PassengerId  Survived  Pclass                           Name     Sex  \\\n804        805.0       1.0     3.0        Hedman, Mr. Oskar Arvid    male   \n851        852.0       0.0     3.0            Svensson, Mr. Johan    male   \n30          31.0       0.0     1.0       Uruchurtu, Don. Manuel E    male   \n58          59.0       1.0     2.0   West, Miss. Constance Mirium  female   \n266        267.0       0.0     3.0      Panula, Mr. Ernesti Arvid    male   \n764        765.0       0.0     3.0         Eklund, Mr. Hans Linus    male   \n23          24.0       1.0     1.0   Sloper, Mr. William Thompson    male   \n783        784.0       0.0     3.0         Johnston, Mr. Andrew G    male   \n24          25.0       0.0     3.0  Palsson, Miss. Torborg Danira  female   \n729        730.0       0.0     3.0  Ilmakangas, Miss. Pieta Sofia  female   \n\n          Age     SibSp     Parch            Ticket      Fare  ... Title  \\\n804 -0.178396 -0.475199 -0.474326            347089 -0.505776  ...    Mr   \n851  3.443222 -0.475199 -0.474326            347060 -0.489670  ...    Mr   \n30   0.823328 -0.475199 -0.474326          PC 17601 -0.088100  ...    Mr   \n58  -1.873621  0.431350  2.006119        C.A. 34651 -0.087512  ...  Miss   \n266 -1.026008  3.150998  0.765897           3101295  0.152826  ...    Mr   \n764 -1.026008 -0.475199 -0.474326            347074 -0.489670  ...    Mr   \n23  -0.101340 -0.475199 -0.474326            113788  0.068519  ...    Mr   \n783 -0.101340  0.431350  2.006119        W./C. 6607 -0.174084  ...    Mr   \n24  -1.642454  2.244449  0.765897            349909 -0.221900  ...  Miss   \n729 -0.332507  0.431350 -0.474326  STON/O2. 3101271 -0.486650  ...  Miss   \n\n    Title_ Title_Miss  Title_Mr  Title_Mrs  Sex_female  Sex_male  fam_size  \\\n804    0.0        0.0       1.0        0.0         0.0       1.0 -0.561804   \n851    0.0        0.0       1.0        0.0         1.0       0.0 -0.561804   \n30     0.0        0.0       1.0        0.0         0.0       1.0 -0.561804   \n58     0.0        1.0       0.0        0.0         1.0       0.0  1.297169   \n266    0.0        0.0       1.0        0.0         0.0       1.0  2.536484   \n764    0.0        0.0       1.0        0.0         1.0       0.0 -0.561804   \n23     0.0        0.0       1.0        0.0         0.0       1.0 -0.561804   \n783    0.0        0.0       1.0        0.0         0.0       1.0  1.297169   \n24     0.0        1.0       0.0        0.0         1.0       0.0  1.916826   \n729    0.0        1.0       0.0        0.0         1.0       0.0  0.057853   \n\n     Alone  Adult  \n804    1.0    1.0  \n851    1.0    1.0  \n30     1.0    1.0  \n58     0.0    0.0  \n266    0.0    0.0  \n764    1.0    0.0  \n23     1.0    1.0  \n783    0.0    1.0  \n24     0.0    0.0  \n729    0.0    1.0  \n\n[10 rows x 22 columns]",
      "text/html": "<div>\n<style scoped>\n    .dataframe tbody tr th:only-of-type {\n        vertical-align: middle;\n    }\n\n    .dataframe tbody tr th {\n        vertical-align: top;\n    }\n\n    .dataframe thead th {\n        text-align: right;\n    }\n</style>\n<table border=\"1\" class=\"dataframe\">\n  <thead>\n    <tr style=\"text-align: right;\">\n      <th></th>\n      <th>PassengerId</th>\n      <th>Survived</th>\n      <th>Pclass</th>\n      <th>Name</th>\n      <th>Sex</th>\n      <th>Age</th>\n      <th>SibSp</th>\n      <th>Parch</th>\n      <th>Ticket</th>\n      <th>Fare</th>\n      <th>...</th>\n      <th>Title</th>\n      <th>Title_</th>\n      <th>Title_Miss</th>\n      <th>Title_Mr</th>\n      <th>Title_Mrs</th>\n      <th>Sex_female</th>\n      <th>Sex_male</th>\n      <th>fam_size</th>\n      <th>Alone</th>\n      <th>Adult</th>\n    </tr>\n  </thead>\n  <tbody>\n    <tr>\n      <th>804</th>\n      <td>805.0</td>\n      <td>1.0</td>\n      <td>3.0</td>\n      <td>Hedman, Mr. Oskar Arvid</td>\n      <td>male</td>\n      <td>-0.178396</td>\n      <td>-0.475199</td>\n      <td>-0.474326</td>\n      <td>347089</td>\n      <td>-0.505776</td>\n      <td>...</td>\n      <td>Mr</td>\n      <td>0.0</td>\n      <td>0.0</td>\n      <td>1.0</td>\n      <td>0.0</td>\n      <td>0.0</td>\n      <td>1.0</td>\n      <td>-0.561804</td>\n      <td>1.0</td>\n      <td>1.0</td>\n    </tr>\n    <tr>\n      <th>851</th>\n      <td>852.0</td>\n      <td>0.0</td>\n      <td>3.0</td>\n      <td>Svensson, Mr. Johan</td>\n      <td>male</td>\n      <td>3.443222</td>\n      <td>-0.475199</td>\n      <td>-0.474326</td>\n      <td>347060</td>\n      <td>-0.489670</td>\n      <td>...</td>\n      <td>Mr</td>\n      <td>0.0</td>\n      <td>0.0</td>\n      <td>1.0</td>\n      <td>0.0</td>\n      <td>1.0</td>\n      <td>0.0</td>\n      <td>-0.561804</td>\n      <td>1.0</td>\n      <td>1.0</td>\n    </tr>\n    <tr>\n      <th>30</th>\n      <td>31.0</td>\n      <td>0.0</td>\n      <td>1.0</td>\n      <td>Uruchurtu, Don. Manuel E</td>\n      <td>male</td>\n      <td>0.823328</td>\n      <td>-0.475199</td>\n      <td>-0.474326</td>\n      <td>PC 17601</td>\n      <td>-0.088100</td>\n      <td>...</td>\n      <td>Mr</td>\n      <td>0.0</td>\n      <td>0.0</td>\n      <td>1.0</td>\n      <td>0.0</td>\n      <td>0.0</td>\n      <td>1.0</td>\n      <td>-0.561804</td>\n      <td>1.0</td>\n      <td>1.0</td>\n    </tr>\n    <tr>\n      <th>58</th>\n      <td>59.0</td>\n      <td>1.0</td>\n      <td>2.0</td>\n      <td>West, Miss. Constance Mirium</td>\n      <td>female</td>\n      <td>-1.873621</td>\n      <td>0.431350</td>\n      <td>2.006119</td>\n      <td>C.A. 34651</td>\n      <td>-0.087512</td>\n      <td>...</td>\n      <td>Miss</td>\n      <td>0.0</td>\n      <td>1.0</td>\n      <td>0.0</td>\n      <td>0.0</td>\n      <td>1.0</td>\n      <td>0.0</td>\n      <td>1.297169</td>\n      <td>0.0</td>\n      <td>0.0</td>\n    </tr>\n    <tr>\n      <th>266</th>\n      <td>267.0</td>\n      <td>0.0</td>\n      <td>3.0</td>\n      <td>Panula, Mr. Ernesti Arvid</td>\n      <td>male</td>\n      <td>-1.026008</td>\n      <td>3.150998</td>\n      <td>0.765897</td>\n      <td>3101295</td>\n      <td>0.152826</td>\n      <td>...</td>\n      <td>Mr</td>\n      <td>0.0</td>\n      <td>0.0</td>\n      <td>1.0</td>\n      <td>0.0</td>\n      <td>0.0</td>\n      <td>1.0</td>\n      <td>2.536484</td>\n      <td>0.0</td>\n      <td>0.0</td>\n    </tr>\n    <tr>\n      <th>764</th>\n      <td>765.0</td>\n      <td>0.0</td>\n      <td>3.0</td>\n      <td>Eklund, Mr. Hans Linus</td>\n      <td>male</td>\n      <td>-1.026008</td>\n      <td>-0.475199</td>\n      <td>-0.474326</td>\n      <td>347074</td>\n      <td>-0.489670</td>\n      <td>...</td>\n      <td>Mr</td>\n      <td>0.0</td>\n      <td>0.0</td>\n      <td>1.0</td>\n      <td>0.0</td>\n      <td>1.0</td>\n      <td>0.0</td>\n      <td>-0.561804</td>\n      <td>1.0</td>\n      <td>0.0</td>\n    </tr>\n    <tr>\n      <th>23</th>\n      <td>24.0</td>\n      <td>1.0</td>\n      <td>1.0</td>\n      <td>Sloper, Mr. William Thompson</td>\n      <td>male</td>\n      <td>-0.101340</td>\n      <td>-0.475199</td>\n      <td>-0.474326</td>\n      <td>113788</td>\n      <td>0.068519</td>\n      <td>...</td>\n      <td>Mr</td>\n      <td>0.0</td>\n      <td>0.0</td>\n      <td>1.0</td>\n      <td>0.0</td>\n      <td>0.0</td>\n      <td>1.0</td>\n      <td>-0.561804</td>\n      <td>1.0</td>\n      <td>1.0</td>\n    </tr>\n    <tr>\n      <th>783</th>\n      <td>784.0</td>\n      <td>0.0</td>\n      <td>3.0</td>\n      <td>Johnston, Mr. Andrew G</td>\n      <td>male</td>\n      <td>-0.101340</td>\n      <td>0.431350</td>\n      <td>2.006119</td>\n      <td>W./C. 6607</td>\n      <td>-0.174084</td>\n      <td>...</td>\n      <td>Mr</td>\n      <td>0.0</td>\n      <td>0.0</td>\n      <td>1.0</td>\n      <td>0.0</td>\n      <td>0.0</td>\n      <td>1.0</td>\n      <td>1.297169</td>\n      <td>0.0</td>\n      <td>1.0</td>\n    </tr>\n    <tr>\n      <th>24</th>\n      <td>25.0</td>\n      <td>0.0</td>\n      <td>3.0</td>\n      <td>Palsson, Miss. Torborg Danira</td>\n      <td>female</td>\n      <td>-1.642454</td>\n      <td>2.244449</td>\n      <td>0.765897</td>\n      <td>349909</td>\n      <td>-0.221900</td>\n      <td>...</td>\n      <td>Miss</td>\n      <td>0.0</td>\n      <td>1.0</td>\n      <td>0.0</td>\n      <td>0.0</td>\n      <td>1.0</td>\n      <td>0.0</td>\n      <td>1.916826</td>\n      <td>0.0</td>\n      <td>0.0</td>\n    </tr>\n    <tr>\n      <th>729</th>\n      <td>730.0</td>\n      <td>0.0</td>\n      <td>3.0</td>\n      <td>Ilmakangas, Miss. Pieta Sofia</td>\n      <td>female</td>\n      <td>-0.332507</td>\n      <td>0.431350</td>\n      <td>-0.474326</td>\n      <td>STON/O2. 3101271</td>\n      <td>-0.486650</td>\n      <td>...</td>\n      <td>Miss</td>\n      <td>0.0</td>\n      <td>1.0</td>\n      <td>0.0</td>\n      <td>0.0</td>\n      <td>1.0</td>\n      <td>0.0</td>\n      <td>0.057853</td>\n      <td>0.0</td>\n      <td>1.0</td>\n    </tr>\n  </tbody>\n</table>\n<p>10 rows × 22 columns</p>\n</div>"
     },
     "execution_count": 71,
     "metadata": {},
     "output_type": "execute_result"
    }
   ],
   "source": [
    "# min max scaler on Title_','Title_Miss', 'Title_Mr', 'Title_Mrs', 'Adult', 'Alone', \"Sex_male\", \"Sex_female\"\n",
    "for col in ['Title_','Title_Miss', 'Title_Mr', 'Title_Mrs', 'Adult', 'Alone', \"Sex_male\", \"Sex_female\"]:\n",
    "    df[col] = MinMaxScaler().fit_transform(df[[col]])\n",
    "\n",
    "df.sample(10)"
   ],
   "metadata": {
    "collapsed": false,
    "ExecuteTime": {
     "end_time": "2024-01-21T14:08:09.205227682Z",
     "start_time": "2024-01-21T14:08:09.191207411Z"
    }
   },
   "id": "563fc3fbe1f40e4a"
  }
 ],
 "metadata": {
  "kernelspec": {
   "display_name": "Python 3",
   "language": "python",
   "name": "python3"
  },
  "language_info": {
   "codemirror_mode": {
    "name": "ipython",
    "version": 2
   },
   "file_extension": ".py",
   "mimetype": "text/x-python",
   "name": "python",
   "nbconvert_exporter": "python",
   "pygments_lexer": "ipython2",
   "version": "2.7.6"
  }
 },
 "nbformat": 4,
 "nbformat_minor": 5
}
