{
 "cells": [
  {
   "cell_type": "code",
   "execution_count": 1,
   "outputs": [
    {
     "name": "stdout",
     "output_type": "stream",
     "text": [
      "Index(['Survived', 'Pclass', 'Age', 'SibSp', 'Parch', 'Fare', 'Title_',\n",
      "       'Title_Miss', 'Title_Mr', 'Title_Mrs', 'Sex_female', 'Sex_male',\n",
      "       'fam_size', 'Alone', 'Adult', 'Embarked_C', 'Embarked_Q', 'Embarked_S',\n",
      "       'Embarked_nan'],\n",
      "      dtype='object')\n"
     ]
    },
    {
     "data": {
      "text/plain": "Survived\n0.0    548\n1.0    339\nName: count, dtype: int64"
     },
     "execution_count": 1,
     "metadata": {},
     "output_type": "execute_result"
    }
   ],
   "source": [
    "import pandas as pd\n",
    "import numpy as np\n",
    "\n",
    "df = pd.read_csv('data/preped_data.csv')\n",
    "#drop all the columns that are not numeric\n",
    "df = df.select_dtypes(include=[np.number])\n",
    "#drop PassangerId\n",
    "df = df.drop(['PassengerId'], axis=1)\n",
    "print(df.columns)\n",
    "# drop missing values\n",
    "df = df.dropna()\n",
    "y = df['Survived']\n",
    "X = df.drop(['Survived'], axis=1)\n",
    "y.value_counts()\n",
    "\n",
    "\n",
    "# data is inbalanced, but curently we are going to use accuracy as our metric"
   ],
   "metadata": {
    "collapsed": false,
    "ExecuteTime": {
     "end_time": "2024-01-25T20:45:08.689924321Z",
     "start_time": "2024-01-25T20:45:08.519128396Z"
    }
   },
   "id": "231145de841bb742"
  },
  {
   "cell_type": "code",
   "execution_count": 2,
   "outputs": [
    {
     "name": "stdout",
     "output_type": "stream",
     "text": [
      "Results with 4 neighbors\n",
      "0.8569023569023569\n",
      "0.7918088737201365\n",
      "Results with 10 neighbors\n",
      "0.8232323232323232\n",
      "0.7747440273037542\n"
     ]
    }
   ],
   "source": [
    "from sklearn.model_selection import train_test_split\n",
    "\n",
    "# drop rows with missing values\n",
    "X_train, X_test, y_train, y_test = train_test_split(X, y, test_size=0.33,random_state=42)\n",
    "\n",
    "# Use k-nearest neighbors\n",
    "from sklearn.neighbors import KNeighborsClassifier\n",
    "# first with 4 neighbors\n",
    "model = KNeighborsClassifier(n_neighbors=4)\n",
    "model.fit(X_train, y_train)\n",
    "y_train_pred = model.predict(X_train)\n",
    "from sklearn.metrics import accuracy_score\n",
    "accuracy_on_train = accuracy_score(y_train, y_train_pred)\n",
    "print(\"Results with 4 neighbors\")\n",
    "print(accuracy_on_train)\n",
    "\n",
    "y_test_pred = model.predict(X_test)\n",
    "accuracy_on_test = accuracy_score(y_test, y_test_pred)\n",
    "print(accuracy_on_test)\n",
    "\n",
    "\n",
    "# now test it with 10 neighbors\n",
    "print(\"Results with 10 neighbors\")\n",
    "model_10 = KNeighborsClassifier(n_neighbors=10)\n",
    "model_10.fit(X_train, y_train)\n",
    "y_train_pred_10 = model_10.predict(X_train)\n",
    "accuracy_on_train_10 = accuracy_score(y_train, y_train_pred_10)\n",
    "print(accuracy_on_train_10)\n",
    "# accuracy on test set\n",
    "y_test_pred_10 = model_10.predict(X_test)\n",
    "accuracy_on_test_10 = accuracy_score(y_test, y_test_pred_10)\n",
    "print(accuracy_on_test_10)"
   ],
   "metadata": {
    "collapsed": false,
    "ExecuteTime": {
     "end_time": "2024-01-25T20:45:09.009091116Z",
     "start_time": "2024-01-25T20:45:08.687133973Z"
    }
   },
   "id": "5240f384a7b2bee7"
  },
  {
   "cell_type": "code",
   "execution_count": 3,
   "outputs": [],
   "source": [
    "# Advatage of k-nearest neighbors\n",
    "# 1. it is easy to understand\n",
    "# 2. it is fast\n",
    "# 3. it is easy to implement\n",
    "# Disadvantage of k-nearest neighbors\n",
    "# 1. it is sensitive to outliers\n",
    "# 2. it is slow with large datasets"
   ],
   "metadata": {
    "collapsed": false,
    "ExecuteTime": {
     "end_time": "2024-01-25T20:45:09.011696116Z",
     "start_time": "2024-01-25T20:45:09.008084643Z"
    }
   },
   "id": "a2904d6f2b3c129d"
  },
  {
   "cell_type": "code",
   "execution_count": 4,
   "outputs": [
    {
     "name": "stdout",
     "output_type": "stream",
     "text": [
      "Model coefficients: [-0.27198545 -0.30214572 -0.11774724  0.1148179   0.41634118  0.10623085\n",
      "  0.08814095 -0.42553008  0.23115829 -0.02219062  0.02219062 -0.15681712\n",
      " -0.09081469 -0.05100265 -0.02286652  0.03434681 -0.01148029  0.        ]\n",
      "Intercept: 0.945393159053904\n",
      "Mean Absolute Error (MAE): 0.2909310181351656\n"
     ]
    }
   ],
   "source": [
    "# Trying out linear regression\n",
    "\n",
    "df = pd.read_csv('data/preped_data.csv')\n",
    "\n",
    "# droping columns that are not numeric\n",
    "df = df.drop(['PassengerId','Name','Sex','Ticket','Cabin','Embarked', 'Title'], axis=1)\n",
    "\n",
    "# droping rows with missing values\n",
    "df = df.dropna()\n",
    "df.max()\n",
    "\n",
    "# MinMaxScaler\n",
    "from sklearn.preprocessing import MinMaxScaler\n",
    "from sklearn.model_selection import train_test_split\n",
    "\n",
    "scaler = MinMaxScaler()\n",
    "# Pclass, Parch, SibSp, Age, Fare\n",
    "df[['Pclass', 'Parch', 'SibSp', 'Age', 'Fare']] = scaler.fit_transform(df[['Pclass', 'Parch', 'SibSp', 'Age', 'Fare']])\n",
    "\n",
    "y = df['Survived']\n",
    "X = df.drop(['Survived'], axis=1)\n",
    "\n",
    "# create test set\n",
    "X_train, X_test, y_train, y_test = train_test_split(X, y, test_size=0.33, random_state=42)\n",
    "\n",
    "# linear regression\n",
    "from sklearn.linear_model import LinearRegression\n",
    "\n",
    "linear_reg_model = LinearRegression()\n",
    "linear_reg_model.fit(X_train, y_train)\n",
    "\n",
    "print(\"Model coefficients:\", linear_reg_model.coef_)\n",
    "print(\"Intercept:\", linear_reg_model.intercept_)\n",
    "\n",
    "from sklearn.metrics import mean_absolute_error\n",
    "\n",
    "y_pred = linear_reg_model.predict(X_test)\n",
    "mae = mean_absolute_error(y_test, y_pred)\n",
    "\n",
    "print(\"Mean Absolute Error (MAE):\", mae)\n"
   ],
   "metadata": {
    "collapsed": false,
    "ExecuteTime": {
     "end_time": "2024-01-25T20:45:09.044700785Z",
     "start_time": "2024-01-25T20:45:09.012064451Z"
    }
   },
   "id": "70a64fe57db330f3"
  },
  {
   "cell_type": "code",
   "execution_count": 5,
   "outputs": [
    {
     "name": "stdout",
     "output_type": "stream",
     "text": [
      "Model coefficients: [-0.27205964 -0.30182414 -0.11760235  0.11463604  0.41532913  0.10618303\n",
      "  0.08819226 -0.42550383  0.23112854 -0.02218725  0.02218725 -0.15677496\n",
      " -0.09083074 -0.05106464 -0.02285465  0.03433677 -0.01148212  0.        ]\n",
      "Intercept: 0.9454370107576975\n",
      "Mean Absolute Error (MAE) with Ridge:  0.2909259986512936\n"
     ]
    }
   ],
   "source": [
    "# using Ridge\n",
    "from sklearn.linear_model import Ridge\n",
    "\n",
    "ridge_model = Ridge(alpha=0.01)\n",
    "ridge_model.fit(X_train, y_train)\n",
    "\n",
    "y_pred_ridge = ridge_model.predict(X_test)\n",
    "\n",
    "mae_ridge = mean_absolute_error(y_test, y_pred_ridge)\n",
    "print(\"Model coefficients:\", ridge_model.coef_)\n",
    "print(\"Intercept:\", ridge_model.intercept_)\n",
    "\n",
    "print(\"Mean Absolute Error (MAE) with Ridge: \", mae_ridge)"
   ],
   "metadata": {
    "collapsed": false,
    "ExecuteTime": {
     "end_time": "2024-01-25T20:45:09.060695261Z",
     "start_time": "2024-01-25T20:45:09.041800853Z"
    }
   },
   "id": "b946b5b38abcd996"
  },
  {
   "cell_type": "code",
   "execution_count": 6,
   "outputs": [
    {
     "name": "stdout",
     "output_type": "stream",
     "text": [
      "Model coefficients: [-2.77182457e-01 -2.38047978e-01 -0.00000000e+00  4.41055129e-02\n",
      "  2.82715771e-01  0.00000000e+00 -0.00000000e+00 -5.23788952e-01\n",
      "  1.28833414e-01 -4.12827692e-02  1.62525717e-17 -1.52621041e-01\n",
      " -8.44000190e-02 -5.18781703e-02 -3.78051805e-03  3.29983175e-02\n",
      "  0.00000000e+00  0.00000000e+00]\n",
      "Intercept: 1.034313489179159\n",
      "Mean Absolute Error (MAE) with Lasso:  0.28974737086413\n"
     ]
    }
   ],
   "source": [
    "from sklearn.linear_model import Lasso\n",
    "\n",
    "lasso_model = Lasso(alpha=0.001)\n",
    "lasso_model.fit(X_train, y_train)\n",
    "\n",
    "y_pred_lasso = lasso_model.predict(X_test)\n",
    "\n",
    "mae_lasso = mean_absolute_error(y_test, y_pred_lasso)\n",
    "print(\"Model coefficients:\", lasso_model.coef_)\n",
    "print(\"Intercept:\", lasso_model.intercept_)\n",
    "print(\"Mean Absolute Error (MAE) with Lasso: \", mae_lasso)\n"
   ],
   "metadata": {
    "collapsed": false,
    "ExecuteTime": {
     "end_time": "2024-01-25T20:45:09.134237713Z",
     "start_time": "2024-01-25T20:45:09.058845787Z"
    }
   },
   "id": "b25a74a9e9ffbcc5"
  },
  {
   "cell_type": "code",
   "execution_count": 7,
   "outputs": [
    {
     "name": "stdout",
     "output_type": "stream",
     "text": [
      "Model coefficients: [-0.27544558 -0.27987168 -0.09945122  0.09828543  0.3578137   0.04878373\n",
      "  0.03755813 -0.47754156  0.17620716 -0.02305643  0.02065551 -0.15419818\n",
      " -0.09077622 -0.0546873  -0.01004974  0.04405745 -0.          0.        ]\n",
      "Intercept: 0.9885217433352705\n",
      "Mean Absolute Error (MAE) with Elastic Net:  0.2907324748623488\n"
     ]
    }
   ],
   "source": [
    "from sklearn.linear_model import ElasticNet\n",
    "from sklearn.metrics import mean_absolute_error\n",
    "\n",
    "elasticnet_model = ElasticNet(alpha=0.001, l1_ratio=0.1)\n",
    "elasticnet_model.fit(X_train, y_train)\n",
    "\n",
    "y_pred_elasticnet = elasticnet_model.predict(X_test)\n",
    "print(\"Model coefficients:\", elasticnet_model.coef_)\n",
    "print(\"Intercept:\", elasticnet_model.intercept_)\n",
    "mae_elasticnet = mean_absolute_error(y_test, y_pred_elasticnet)\n",
    "\n",
    "print(\"Mean Absolute Error (MAE) with Elastic Net: \", mae_elasticnet)\n"
   ],
   "metadata": {
    "collapsed": false,
    "ExecuteTime": {
     "end_time": "2024-01-25T20:45:09.135460338Z",
     "start_time": "2024-01-25T20:45:09.087027109Z"
    }
   },
   "id": "d25fd02a3d567e70"
  },
  {
   "cell_type": "code",
   "execution_count": 8,
   "outputs": [
    {
     "name": "stdout",
     "output_type": "stream",
     "text": [
      "Train Accuracy: 0.8400673400673401\n",
      "Test Accuracy: 0.8088737201365188\n"
     ]
    }
   ],
   "source": [
    "# logistic regression\n",
    "\n",
    "from sklearn.linear_model import LogisticRegression\n",
    "\n",
    "logreg_model = LogisticRegression(random_state=42)\n",
    "logreg_model.fit(X_train, y_train)\n",
    "\n",
    "y_train_pred = logreg_model.predict(X_train)\n",
    "\n",
    "y_test_pred = logreg_model.predict(X_test)\n",
    "\n",
    "train_accuracy = accuracy_score(y_train, y_train_pred)\n",
    "test_accuracy = accuracy_score(y_test, y_test_pred)\n",
    "\n",
    "print(\"Train Accuracy:\", train_accuracy)\n",
    "print(\"Test Accuracy:\", test_accuracy)\n"
   ],
   "metadata": {
    "collapsed": false,
    "ExecuteTime": {
     "end_time": "2024-01-25T20:45:09.209558973Z",
     "start_time": "2024-01-25T20:45:09.110146429Z"
    }
   },
   "id": "b0b8c4e18cbdb535"
  },
  {
   "cell_type": "code",
   "execution_count": 9,
   "outputs": [
    {
     "name": "stdout",
     "output_type": "stream",
     "text": [
      "Train Accuracy: 0.8400673400673401\n",
      "Test Accuracy: 0.8122866894197952\n"
     ]
    }
   ],
   "source": [
    "# SVM\n",
    "\n",
    "def get_accuracy(model, X_train, X_test, y_train, y_test):\n",
    "    y_train_pred = model.predict(X_train)\n",
    "\n",
    "    y_test_pred = model.predict(X_test)\n",
    "\n",
    "    train_accuracy = accuracy_score(y_train, y_train_pred)\n",
    "    test_accuracy = accuracy_score(y_test, y_test_pred)\n",
    "\n",
    "    print(\"Train Accuracy:\", train_accuracy)\n",
    "    print(\"Test Accuracy:\", test_accuracy)\n",
    "\n",
    "\n",
    "from sklearn.svm import SVC\n",
    "\n",
    "svm = SVC(kernel='rbf', C=0.1)  # kernel{‘linear’, ‘poly’, ‘rbf’, ‘sigmoid’, ‘precomputed’} or callable, default=’rbf’\n",
    "svm.fit(X_train, y_train)\n",
    "get_accuracy(svm, X_train, X_test, y_train, y_test)"
   ],
   "metadata": {
    "collapsed": false,
    "ExecuteTime": {
     "end_time": "2024-01-25T20:45:09.309510048Z",
     "start_time": "2024-01-25T20:45:09.207939167Z"
    }
   },
   "id": "f3d5865f260ed191"
  },
  {
   "cell_type": "code",
   "execution_count": 31,
   "outputs": [
    {
     "name": "stdout",
     "output_type": "stream",
     "text": [
      "Train Accuracy: 0.867003367003367\n",
      "Test Accuracy: 0.8225255972696246\n",
      "Train Accuracy: 0.8737373737373737\n",
      "Test Accuracy: 0.8156996587030717\n"
     ]
    },
    {
     "data": {
      "text/plain": "<Figure size 1200x800 with 1 Axes>",
      "image/png": "[encoded data removed]"
     },
     "metadata": {},
     "output_type": "display_data"
    },
    {
     "data": {
      "text/plain": "Index(['Survived', 'Pclass', 'Age', 'SibSp', 'Parch', 'Fare', 'Title_',\n       'Title_Miss', 'Title_Mr', 'Title_Mrs', 'Sex_female', 'Sex_male',\n       'fam_size', 'Alone', 'Adult', 'Embarked_C', 'Embarked_Q', 'Embarked_S',\n       'Embarked_nan'],\n      dtype='object')"
     },
     "execution_count": 31,
     "metadata": {},
     "output_type": "execute_result"
    }
   ],
   "source": [
    "# decision tree\n",
    "\n",
    "from sklearn.tree import DecisionTreeClassifier\n",
    "\n",
    "decision_tree_clf = DecisionTreeClassifier(max_depth=5)\n",
    "decision_tree_clf.fit(X_train, y_train)\n",
    "get_accuracy(decision_tree_clf, X_train, X_test, y_train, y_test)\n",
    "from sklearn.tree import export_graphviz\n",
    "\n",
    "export_graphviz(decision_tree_clf,\n",
    "                out_file='tree_3.dot',\n",
    "                feature_names=X_train.columns.tolist(),\n",
    "                class_names=[\"0\", \"1\"],\n",
    "                rounded=True,\n",
    "                filled=True)\n",
    "\n",
    "# random forest\n",
    "from sklearn.ensemble import RandomForestClassifier\n",
    "rf = RandomForestClassifier(n_estimators=100, max_depth=6, random_state=1)\n",
    "rf.fit(X_train, y_train)\n",
    "get_accuracy(rf, X_train, X_test, y_train, y_test)\n",
    "\n",
    "import matplotlib.pyplot as plt\n",
    "import numpy as np\n",
    "\n",
    "feature_importances = rf.feature_importances_\n",
    "feature_names = X_train.columns\n",
    "\n",
    "sorted_indices = np.argsort(feature_importances)[::-1]\n",
    "sorted_feature_importances = np.array(feature_importances)[sorted_indices]\n",
    "sorted_feature_names = np.array(feature_names)[sorted_indices]\n",
    "\n",
    "top_n = 10\n",
    "top_n_indices = sorted_indices[:top_n]\n",
    "top_n_feature_importances = sorted_feature_importances[:top_n]\n",
    "top_n_feature_names = sorted_feature_names[:top_n]\n",
    "\n",
    "plt.figure(figsize=(12, 8))\n",
    "plt.title(\"Top 10 Feature Importances in Random Forest\")\n",
    "plt.bar(top_n_feature_names, top_n_feature_importances)\n",
    "plt.xlabel(\"Features\")\n",
    "plt.ylabel(\"Importance\")\n",
    "plt.xticks(rotation=45)\n",
    "plt.show()\n",
    "\n",
    "df.columns"
   ],
   "metadata": {
    "collapsed": false,
    "ExecuteTime": {
     "end_time": "2024-01-25T20:54:06.070407499Z",
     "start_time": "2024-01-25T20:54:05.901439221Z"
    }
   },
   "id": "4bc2f436a8c1cc28"
  }
 ],
 "metadata": {
  "kernelspec": {
   "display_name": "Python 3",
   "language": "python",
   "name": "python3"
  },
  "language_info": {
   "codemirror_mode": {
    "name": "ipython",
    "version": 2
   },
   "file_extension": ".py",
   "mimetype": "text/x-python",
   "name": "python",
   "nbconvert_exporter": "python",
   "pygments_lexer": "ipython2",
   "version": "2.7.6"
  }
 },
 "nbformat": 4,
 "nbformat_minor": 5
}
