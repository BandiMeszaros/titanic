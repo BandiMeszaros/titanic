{
 "cells": [
  {
   "cell_type": "code",
   "execution_count": 12,
   "outputs": [
    {
     "name": "stdout",
     "output_type": "stream",
     "text": [
      "Index(['Survived', 'Pclass', 'Age', 'SibSp', 'Parch', 'Fare', 'Title_',\n",
      "       'Title_Miss', 'Title_Mr', 'Title_Mrs', 'Sex_female', 'Sex_male',\n",
      "       'fam_size', 'Alone', 'Adult', 'Embarked_C', 'Embarked_Q', 'Embarked_S',\n",
      "       'Embarked_nan'],\n",
      "      dtype='object')\n"
     ]
    },
    {
     "data": {
      "text/plain": "Survived\n0.0    548\n1.0    339\nName: count, dtype: int64"
     },
     "execution_count": 12,
     "metadata": {},
     "output_type": "execute_result"
    }
   ],
   "source": [
    "import pandas as pd\n",
    "import numpy as np\n",
    "\n",
    "df = pd.read_csv('data/preped_data.csv')\n",
    "#drop all the columns that are not numeric\n",
    "df = df.select_dtypes(include=[np.number])\n",
    "#drop PassangerId\n",
    "df = df.drop(['PassengerId'], axis=1)\n",
    "print(df.columns)\n",
    "# drop missing values\n",
    "df = df.dropna()\n",
    "y = df['Survived']\n",
    "X = df.drop(['Survived'], axis=1)\n",
    "y.value_counts()\n",
    "\n",
    "# data is inbalanced, but curently we are going to use accuracy as our metric"
   ],
   "metadata": {
    "collapsed": false,
    "ExecuteTime": {
     "end_time": "2024-01-22T17:53:00.263607273Z",
     "start_time": "2024-01-22T17:53:00.221894074Z"
    }
   },
   "id": "231145de841bb742"
  },
  {
   "cell_type": "code",
   "execution_count": 16,
   "outputs": [
    {
     "name": "stdout",
     "output_type": "stream",
     "text": [
      "Results with 4 neighbors\n",
      "0.8569023569023569\n",
      "0.7918088737201365\n",
      "Results with 10 neighbors\n",
      "0.8232323232323232\n",
      "0.7747440273037542\n"
     ]
    }
   ],
   "source": [
    "from sklearn.model_selection import train_test_split\n",
    "\n",
    "# drop rows with missing values\n",
    "X_train, X_test, y_train, y_test = train_test_split(X, y, test_size=0.33,random_state=42)\n",
    "\n",
    "# Use k-nearest neighbors\n",
    "from sklearn.neighbors import KNeighborsClassifier\n",
    "# first with 4 neighbors\n",
    "model = KNeighborsClassifier(n_neighbors=4)\n",
    "model.fit(X_train, y_train)\n",
    "y_train_pred = model.predict(X_train)\n",
    "from sklearn.metrics import accuracy_score\n",
    "accuracy_on_train = accuracy_score(y_train, y_train_pred)\n",
    "print(\"Results with 4 neighbors\")\n",
    "print(accuracy_on_train)\n",
    "\n",
    "y_test_pred = model.predict(X_test)\n",
    "accuracy_on_test = accuracy_score(y_test, y_test_pred)\n",
    "print(accuracy_on_test)\n",
    "\n",
    "\n",
    "# now test it with 10 neighbors\n",
    "print(\"Results with 10 neighbors\")\n",
    "model_10 = KNeighborsClassifier(n_neighbors=10)\n",
    "model_10.fit(X_train, y_train)\n",
    "y_train_pred_10 = model_10.predict(X_train)\n",
    "accuracy_on_train_10 = accuracy_score(y_train, y_train_pred_10)\n",
    "print(accuracy_on_train_10)\n",
    "# accuracy on test set\n",
    "y_test_pred_10 = model_10.predict(X_test)\n",
    "accuracy_on_test_10 = accuracy_score(y_test, y_test_pred_10)\n",
    "print(accuracy_on_test_10)"
   ],
   "metadata": {
    "collapsed": false,
    "ExecuteTime": {
     "end_time": "2024-01-22T17:59:38.795467557Z",
     "start_time": "2024-01-22T17:59:38.754064839Z"
    }
   },
   "id": "5240f384a7b2bee7"
  },
  {
   "cell_type": "code",
   "execution_count": null,
   "outputs": [],
   "source": [
    "# Advatage of k-nearest neighbors\n",
    "# 1. it is easy to understand\n",
    "# 2. it is fast\n",
    "# 3. it is easy to implement\n",
    "# Disadvantage of k-nearest neighbors\n",
    "# 1. it is sensitive to outliers\n",
    "# 2. it is slow with large datasets"
   ],
   "metadata": {
    "collapsed": false
   },
   "id": "c3845baf06459a6b"
  }
 ],
 "metadata": {
  "kernelspec": {
   "display_name": "Python 3",
   "language": "python",
   "name": "python3"
  },
  "language_info": {
   "codemirror_mode": {
    "name": "ipython",
    "version": 2
   },
   "file_extension": ".py",
   "mimetype": "text/x-python",
   "name": "python",
   "nbconvert_exporter": "python",
   "pygments_lexer": "ipython2",
   "version": "2.7.6"
  }
 },
 "nbformat": 4,
 "nbformat_minor": 5
}
